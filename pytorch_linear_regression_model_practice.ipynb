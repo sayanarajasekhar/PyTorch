{
  "nbformat": 4,
  "nbformat_minor": 0,
  "metadata": {
    "colab": {
      "provenance": [],
      "authorship_tag": "ABX9TyOzz1GPzCSt3wFgV8lRYO8w",
      "include_colab_link": true
    },
    "kernelspec": {
      "name": "python3",
      "display_name": "Python 3"
    },
    "language_info": {
      "name": "python"
    }
  },
  "cells": [
    {
      "cell_type": "markdown",
      "metadata": {
        "id": "view-in-github",
        "colab_type": "text"
      },
      "source": [
        "<a href=\"https://colab.research.google.com/github/sayanarajasekhar/PyTorch/blob/main/pytorch_linear_regression_model_practice.ipynb\" target=\"_parent\"><img src=\"https://colab.research.google.com/assets/colab-badge.svg\" alt=\"Open In Colab\"/></a>"
      ]
    },
    {
      "cell_type": "markdown",
      "source": [
        "# 1. Model_0"
      ],
      "metadata": {
        "id": "ibrCDMpOB1-A"
      }
    },
    {
      "cell_type": "code",
      "execution_count": 1,
      "metadata": {
        "id": "vyuNmk6tBTAe"
      },
      "outputs": [],
      "source": [
        "import torch\n",
        "from torch import nn\n",
        "import matplotlib.pyplot as plt"
      ]
    },
    {
      "cell_type": "markdown",
      "source": [
        "## 1.1 Create data"
      ],
      "metadata": {
        "id": "Dw-HK2YtM1eO"
      }
    },
    {
      "cell_type": "code",
      "source": [
        "weight = 0.7\n",
        "bias = 0.3\n",
        "start, end , step = 0, 1, 0.002\n",
        "\n",
        "X = torch.arange(start, end, step)\n",
        "y = weight * X + bias\n",
        "\n",
        "len(X), len(y), X[:5], y[:5]"
      ],
      "metadata": {
        "colab": {
          "base_uri": "https://localhost:8080/"
        },
        "id": "PKqPNdecMyti",
        "outputId": "82e32521-85a3-404c-fdf8-633f7f4b8337"
      },
      "execution_count": 3,
      "outputs": [
        {
          "output_type": "execute_result",
          "data": {
            "text/plain": [
              "(500,\n",
              " 500,\n",
              " tensor([0.0000, 0.0020, 0.0040, 0.0060, 0.0080]),\n",
              " tensor([0.3000, 0.3014, 0.3028, 0.3042, 0.3056]))"
            ]
          },
          "metadata": {},
          "execution_count": 3
        }
      ]
    },
    {
      "cell_type": "markdown",
      "source": [
        "## 1.2 Split training and test data"
      ],
      "metadata": {
        "id": "KggV6mX1NX7w"
      }
    },
    {
      "cell_type": "code",
      "source": [
        "split = int(0.8 * len(X))\n",
        "X_train, y_train = X[:split], y[:split]\n",
        "X_test, y_test = X[split:], y[split:]\n",
        "\n",
        "len(X_train), len(y_train), len(X_test), len(y_test)"
      ],
      "metadata": {
        "colab": {
          "base_uri": "https://localhost:8080/"
        },
        "id": "EtCuBNiiNQSe",
        "outputId": "81d941a6-546d-4c99-b51e-3fdb205b3695"
      },
      "execution_count": 4,
      "outputs": [
        {
          "output_type": "execute_result",
          "data": {
            "text/plain": [
              "(400, 400, 100, 100)"
            ]
          },
          "metadata": {},
          "execution_count": 4
        }
      ]
    },
    {
      "cell_type": "markdown",
      "source": [
        "## 1.3 Create linear regression model 0"
      ],
      "metadata": {
        "id": "vwPFO9R9N6zx"
      }
    },
    {
      "cell_type": "code",
      "source": [],
      "metadata": {
        "id": "yJWzU-GJN3Hs"
      },
      "execution_count": null,
      "outputs": []
    }
  ]
}