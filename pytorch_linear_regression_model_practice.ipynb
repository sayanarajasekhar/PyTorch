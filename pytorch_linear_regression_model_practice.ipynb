{
  "nbformat": 4,
  "nbformat_minor": 0,
  "metadata": {
    "colab": {
      "provenance": [],
      "authorship_tag": "ABX9TyOD9Ph3cpzfsHbgBAF/8qB4",
      "include_colab_link": true
    },
    "kernelspec": {
      "name": "python3",
      "display_name": "Python 3"
    },
    "language_info": {
      "name": "python"
    }
  },
  "cells": [
    {
      "cell_type": "markdown",
      "metadata": {
        "id": "view-in-github",
        "colab_type": "text"
      },
      "source": [
        "<a href=\"https://colab.research.google.com/github/sayanarajasekhar/PyTorch/blob/main/pytorch_linear_regression_model_practice.ipynb\" target=\"_parent\"><img src=\"https://colab.research.google.com/assets/colab-badge.svg\" alt=\"Open In Colab\"/></a>"
      ]
    },
    {
      "cell_type": "markdown",
      "source": [
        "# 1. Model_0"
      ],
      "metadata": {
        "id": "ibrCDMpOB1-A"
      }
    },
    {
      "cell_type": "code",
      "execution_count": 1,
      "metadata": {
        "id": "vyuNmk6tBTAe"
      },
      "outputs": [],
      "source": [
        "import torch\n",
        "from torch import nn\n",
        "import matplotlib.pyplot as plt"
      ]
    },
    {
      "cell_type": "markdown",
      "source": [
        "## 1.1 Create data"
      ],
      "metadata": {
        "id": "Dw-HK2YtM1eO"
      }
    },
    {
      "cell_type": "code",
      "source": [
        "weight = 0.7\n",
        "bias = 0.3\n",
        "start, end , step = 0, 1, 0.002\n",
        "\n",
        "X = torch.arange(start, end, step)\n",
        "y = weight * X + bias\n",
        "\n",
        "len(X), len(y), X[:5], y[:5]"
      ],
      "metadata": {
        "colab": {
          "base_uri": "https://localhost:8080/"
        },
        "id": "PKqPNdecMyti",
        "outputId": "82e32521-85a3-404c-fdf8-633f7f4b8337"
      },
      "execution_count": 3,
      "outputs": [
        {
          "output_type": "execute_result",
          "data": {
            "text/plain": [
              "(500,\n",
              " 500,\n",
              " tensor([0.0000, 0.0020, 0.0040, 0.0060, 0.0080]),\n",
              " tensor([0.3000, 0.3014, 0.3028, 0.3042, 0.3056]))"
            ]
          },
          "metadata": {},
          "execution_count": 3
        }
      ]
    },
    {
      "cell_type": "markdown",
      "source": [
        "## 1.2 Split training and test data"
      ],
      "metadata": {
        "id": "KggV6mX1NX7w"
      }
    },
    {
      "cell_type": "code",
      "source": [
        "split = int(0.8 * len(X))\n",
        "X_train, y_train = X[:split], y[:split]\n",
        "X_test, y_test = X[split:], y[split:]\n",
        "\n",
        "len(X_train), len(y_train), len(X_test), len(y_test)"
      ],
      "metadata": {
        "colab": {
          "base_uri": "https://localhost:8080/"
        },
        "id": "EtCuBNiiNQSe",
        "outputId": "81d941a6-546d-4c99-b51e-3fdb205b3695"
      },
      "execution_count": 4,
      "outputs": [
        {
          "output_type": "execute_result",
          "data": {
            "text/plain": [
              "(400, 400, 100, 100)"
            ]
          },
          "metadata": {},
          "execution_count": 4
        }
      ]
    },
    {
      "cell_type": "markdown",
      "source": [
        "## 1.3 Create linear regression model"
      ],
      "metadata": {
        "id": "vwPFO9R9N6zx"
      }
    },
    {
      "cell_type": "code",
      "source": [
        "class LinearRegressionModelV0(nn.Module):\n",
        "  def __init__(self):\n",
        "    super().__init__()\n",
        "    self.weight = nn.Parameter(torch.rand(1, dtype = torch.float), requires_grad = True)\n",
        "    self.bias = nn.Parameter(torch.rand(1, dtype = torch.float), requires_grad = True)\n",
        "\n",
        "  def forward(self, x):\n",
        "    return self.weight * x + self.bias"
      ],
      "metadata": {
        "id": "yJWzU-GJN3Hs"
      },
      "execution_count": 7,
      "outputs": []
    },
    {
      "cell_type": "markdown",
      "source": [
        "## 1.4 Create model_0"
      ],
      "metadata": {
        "id": "3vIDs1WNOxAi"
      }
    },
    {
      "cell_type": "code",
      "source": [
        "torch.manual_seed(42)\n",
        "model_0 = LinearRegressionModelV0()\n",
        "model_0.state_dict()"
      ],
      "metadata": {
        "colab": {
          "base_uri": "https://localhost:8080/"
        },
        "id": "Uofkl0UKOv1_",
        "outputId": "33381451-3e11-4fb5-87a5-0a8b42d76557"
      },
      "execution_count": 19,
      "outputs": [
        {
          "output_type": "execute_result",
          "data": {
            "text/plain": [
              "OrderedDict([('weight', tensor([0.8823])), ('bias', tensor([0.9150]))])"
            ]
          },
          "metadata": {},
          "execution_count": 19
        }
      ]
    },
    {
      "cell_type": "markdown",
      "source": [
        "## 1.5 Create loss function and optimizer"
      ],
      "metadata": {
        "id": "Z8CE8iZmPCIY"
      }
    },
    {
      "cell_type": "code",
      "source": [
        "loss_fn = nn.L1Loss()\n",
        "optimizer = torch.optim.SGD(params = model_0.parameters(), lr = 0.00001)"
      ],
      "metadata": {
        "id": "6G8F_FKnO9Il"
      },
      "execution_count": 34,
      "outputs": []
    },
    {
      "cell_type": "markdown",
      "source": [
        "## 1.6 Create train and test loop"
      ],
      "metadata": {
        "id": "bBAcAi6bPTTp"
      }
    },
    {
      "cell_type": "code",
      "source": [
        "epochs = 500\n",
        "\n",
        "for epoch in range(epochs):\n",
        "  ## Train\n",
        "  model_0.train()\n",
        "\n",
        "  # 1. Forward pass\n",
        "  train_preds = model_0(X_train)\n",
        "\n",
        "  # 2. Calculate loss\n",
        "  train_loss = loss_fn(train_preds, y_train)\n",
        "\n",
        "  # 3. Optimize zero grad\n",
        "  optimizer.zero_grad()\n",
        "\n",
        "  # 4. Loss backward\n",
        "  train_loss.backward()\n",
        "\n",
        "  # 5. optimize step\n",
        "  optimizer.step()\n",
        "\n",
        "  ## Test\n",
        "  model_0.eval()\n",
        "  with torch.inference_mode():\n",
        "\n",
        "    # 1. Forward pass\n",
        "    test_preds = model_0(X_test)\n",
        "\n",
        "    # 2. Calculate loss\n",
        "    test_loss = loss_fn(test_preds, y_test)\n",
        "\n",
        "  if epoch % 20 == 0:\n",
        "    print(f\"Epoch: {epoch} | Train Loss: {train_loss:.4f} | Test Loss: {test_loss:.4f}\")\n",
        "\n",
        "model_0.state_dict()"
      ],
      "metadata": {
        "colab": {
          "base_uri": "https://localhost:8080/"
        },
        "id": "eGPAmDOVPQ8z",
        "outputId": "a67ec811-6813-46a8-be9b-d8a83dbe84be"
      },
      "execution_count": 35,
      "outputs": [
        {
          "output_type": "stream",
          "name": "stdout",
          "text": [
            "Epoch: 0 | Train Loss: 0.0003 | Test Loss: 0.0001\n",
            "Epoch: 20 | Train Loss: 0.0001 | Test Loss: 0.0001\n",
            "Epoch: 40 | Train Loss: 0.0001 | Test Loss: 0.0002\n",
            "Epoch: 60 | Train Loss: 0.0001 | Test Loss: 0.0002\n",
            "Epoch: 80 | Train Loss: 0.0001 | Test Loss: 0.0002\n",
            "Epoch: 100 | Train Loss: 0.0001 | Test Loss: 0.0002\n",
            "Epoch: 120 | Train Loss: 0.0001 | Test Loss: 0.0001\n",
            "Epoch: 140 | Train Loss: 0.0001 | Test Loss: 0.0001\n",
            "Epoch: 160 | Train Loss: 0.0000 | Test Loss: 0.0001\n",
            "Epoch: 180 | Train Loss: 0.0000 | Test Loss: 0.0001\n",
            "Epoch: 200 | Train Loss: 0.0000 | Test Loss: 0.0001\n",
            "Epoch: 220 | Train Loss: 0.0000 | Test Loss: 0.0001\n",
            "Epoch: 240 | Train Loss: 0.0000 | Test Loss: 0.0000\n",
            "Epoch: 260 | Train Loss: 0.0000 | Test Loss: 0.0000\n",
            "Epoch: 280 | Train Loss: 0.0000 | Test Loss: 0.0000\n",
            "Epoch: 300 | Train Loss: 0.0000 | Test Loss: 0.0000\n",
            "Epoch: 320 | Train Loss: 0.0000 | Test Loss: 0.0000\n",
            "Epoch: 340 | Train Loss: 0.0000 | Test Loss: 0.0000\n",
            "Epoch: 360 | Train Loss: 0.0000 | Test Loss: 0.0000\n",
            "Epoch: 380 | Train Loss: 0.0000 | Test Loss: 0.0000\n",
            "Epoch: 400 | Train Loss: 0.0000 | Test Loss: 0.0000\n",
            "Epoch: 420 | Train Loss: 0.0000 | Test Loss: 0.0000\n",
            "Epoch: 440 | Train Loss: 0.0000 | Test Loss: 0.0000\n",
            "Epoch: 460 | Train Loss: 0.0000 | Test Loss: 0.0000\n",
            "Epoch: 480 | Train Loss: 0.0000 | Test Loss: 0.0000\n"
          ]
        },
        {
          "output_type": "execute_result",
          "data": {
            "text/plain": [
              "OrderedDict([('weight', tensor([0.7000])), ('bias', tensor([0.3000]))])"
            ]
          },
          "metadata": {},
          "execution_count": 35
        }
      ]
    },
    {
      "cell_type": "code",
      "source": [],
      "metadata": {
        "id": "BOriRDBOQdrQ"
      },
      "execution_count": null,
      "outputs": []
    }
  ]
}