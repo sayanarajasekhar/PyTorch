{
  "nbformat": 4,
  "nbformat_minor": 0,
  "metadata": {
    "colab": {
      "provenance": [],
      "authorship_tag": "ABX9TyPDEzdvXgDt3gfFT7OEHg0a"
    },
    "kernelspec": {
      "name": "python3",
      "display_name": "Python 3"
    },
    "language_info": {
      "name": "python"
    }
  },
  "cells": [
    {
      "cell_type": "markdown",
      "source": [
        "# 00. PyTorch Fundamentals\n",
        "\n",
        "### What is PyTorch ?\n",
        "[PyTorch](https://pytorch.org/) is an open source machine learning and deep learning framework.\n",
        "\n",
        "### What can PyTorch be used for ?\n",
        "PyTorch allows you to manipulate and process data and write machine learning algorithms using Python code.\n",
        "\n"
      ],
      "metadata": {
        "id": "PsCFKZjftxQI"
      }
    },
    {
      "cell_type": "code",
      "source": [
        "import torch\n",
        "import pandas as pd\n",
        "import numpy as np\n",
        "import matplotlib.pyplot as plt\n",
        "print(torch.__version__)"
      ],
      "metadata": {
        "colab": {
          "base_uri": "https://localhost:8080/"
        },
        "id": "C1n6PyuOtwwu",
        "outputId": "8750006d-5c8b-4cdf-960a-cd32203385ff"
      },
      "execution_count": null,
      "outputs": [
        {
          "output_type": "stream",
          "name": "stdout",
          "text": [
            "2.6.0+cu124\n"
          ]
        }
      ]
    },
    {
      "cell_type": "markdown",
      "source": [
        "## Intoduction to tensors\n",
        "\n",
        "Tensors are the fundamental building blocks of machine learning.\n",
        "\n",
        "Their job is to represent data in a numerical way.\n",
        "\n",
        "For Example, you could represent an image as a tensor with shape ```[3, 224, 224]``` which would mean ```[color_channels, height, width]```"
      ],
      "metadata": {
        "id": "5zCZeHVmvSck"
      }
    },
    {
      "cell_type": "markdown",
      "source": [
        "## Creating tensors\n",
        "> Documentaion on [tensers](https://docs.pytorch.org/docs/stable/tensors.html)\n",
        "\n",
        "Lets create a **scalar**\n",
        "\n",
        "### Scalar\n",
        "A scalar is a single number and in tensor-speak it's a zero dimension tensor"
      ],
      "metadata": {
        "id": "sCfGdnViwCTE"
      }
    },
    {
      "cell_type": "code",
      "execution_count": null,
      "metadata": {
        "colab": {
          "base_uri": "https://localhost:8080/"
        },
        "id": "KmSrcaA5tFmn",
        "outputId": "3cb8b652-481a-46fd-9e8c-546e6054756b"
      },
      "outputs": [
        {
          "output_type": "execute_result",
          "data": {
            "text/plain": [
              "tensor(7)"
            ]
          },
          "metadata": {},
          "execution_count": 2
        }
      ],
      "source": [
        "# Scalar\n",
        "scalar = torch.tensor(7)\n",
        "scalar"
      ]
    },
    {
      "cell_type": "markdown",
      "source": [
        "This means although  ```scalar``` is a single number, its of type ```torch.tensor```\n",
        "\n",
        "Lets check te dimensions of a tensor using ```ndim``` attribute"
      ],
      "metadata": {
        "id": "w7TDStzfy_iR"
      }
    },
    {
      "cell_type": "code",
      "source": [
        "scalar.ndim"
      ],
      "metadata": {
        "colab": {
          "base_uri": "https://localhost:8080/"
        },
        "id": "XDqYS26dy8jI",
        "outputId": "5a6f8478-21af-4c49-adff-1777ba04dbb9"
      },
      "execution_count": null,
      "outputs": [
        {
          "output_type": "execute_result",
          "data": {
            "text/plain": [
              "0"
            ]
          },
          "metadata": {},
          "execution_count": 3
        }
      ]
    },
    {
      "cell_type": "markdown",
      "source": [
        "What if we want to retriece the number from the tensor ?\n",
        "\n",
        "As in, turn it from  ```torch.tensor``` to a python integer?\n",
        "\n",
        "To do we can use ```item()``` method\n"
      ],
      "metadata": {
        "id": "_VwULIIcza4R"
      }
    },
    {
      "cell_type": "code",
      "source": [
        "# Get the python number within a tensor (Only works with one-element tensors)\n",
        "scalar.item()"
      ],
      "metadata": {
        "colab": {
          "base_uri": "https://localhost:8080/"
        },
        "id": "jZqoqvL1zyI1",
        "outputId": "65f8a49a-2ad7-48c6-976b-6d5dba54ab7d"
      },
      "execution_count": null,
      "outputs": [
        {
          "output_type": "execute_result",
          "data": {
            "text/plain": [
              "7"
            ]
          },
          "metadata": {},
          "execution_count": 4
        }
      ]
    },
    {
      "cell_type": "markdown",
      "source": [
        "### Vector\n",
        "\n",
        "A vector is a single dimension tensor but can contain many numbers.\n",
        "\n",
        "As in, you can have a vector ```[3, 2]``` to describe ```[bedrooms, bathrooms]``` in a house. Or you could have ```[3, 2, 2]``` to describe ```[bedrooms, bathrooms, car_parks]``` in a house.\n",
        "\n",
        "The important trend here is that a vector is flexible in what it can reporesent"
      ],
      "metadata": {
        "id": "yMNBAmESz-e9"
      }
    },
    {
      "cell_type": "code",
      "source": [
        "# Vector\n",
        "vector = torch.tensor([7, 7])\n",
        "vector"
      ],
      "metadata": {
        "colab": {
          "base_uri": "https://localhost:8080/"
        },
        "id": "P2n5o5Uwz-Ok",
        "outputId": "8e90e7e3-ea99-4ce2-d46b-fe70994fc3ac"
      },
      "execution_count": null,
      "outputs": [
        {
          "output_type": "execute_result",
          "data": {
            "text/plain": [
              "tensor([7, 7])"
            ]
          },
          "metadata": {},
          "execution_count": 5
        }
      ]
    },
    {
      "cell_type": "code",
      "source": [
        "# Check number of dimensions of vector\n",
        "vector.ndim"
      ],
      "metadata": {
        "colab": {
          "base_uri": "https://localhost:8080/"
        },
        "id": "62XoIpEf01Lg",
        "outputId": "67b2b818-377c-4880-9eb2-896c938fd3b0"
      },
      "execution_count": null,
      "outputs": [
        {
          "output_type": "execute_result",
          "data": {
            "text/plain": [
              "1"
            ]
          },
          "metadata": {},
          "execution_count": 6
        }
      ]
    }
  ]
}