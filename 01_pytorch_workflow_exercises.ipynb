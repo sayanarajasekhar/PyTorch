{
  "nbformat": 4,
  "nbformat_minor": 0,
  "metadata": {
    "colab": {
      "provenance": [],
      "gpuType": "T4",
      "authorship_tag": "ABX9TyNGekcKx7vP2j6hmcb0hpI0",
      "include_colab_link": true
    },
    "kernelspec": {
      "name": "python3",
      "display_name": "Python 3"
    },
    "language_info": {
      "name": "python"
    },
    "accelerator": "GPU"
  },
  "cells": [
    {
      "cell_type": "markdown",
      "metadata": {
        "id": "view-in-github",
        "colab_type": "text"
      },
      "source": [
        "<a href=\"https://colab.research.google.com/github/sayanarajasekhar/PyTorch/blob/main/01_pytorch_workflow_exercises.ipynb\" target=\"_parent\"><img src=\"https://colab.research.google.com/assets/colab-badge.svg\" alt=\"Open In Colab\"/></a>"
      ]
    },
    {
      "cell_type": "markdown",
      "source": [
        "> Note: For all exercises, code should be device agnostic (meaning it could run on CPU or GPU if it's available)."
      ],
      "metadata": {
        "id": "LL2jzncmVlJ-"
      }
    },
    {
      "cell_type": "code",
      "execution_count": 95,
      "metadata": {
        "colab": {
          "base_uri": "https://localhost:8080/",
          "height": 35
        },
        "id": "S9urIQEUHfjZ",
        "outputId": "2b075256-81d1-4a7d-daa9-f9420c48bc5c"
      },
      "outputs": [
        {
          "output_type": "execute_result",
          "data": {
            "text/plain": [
              "'2.8.0+cu126'"
            ],
            "application/vnd.google.colaboratory.intrinsic+json": {
              "type": "string"
            }
          },
          "metadata": {},
          "execution_count": 95
        }
      ],
      "source": [
        "# Import torch and matplotlib\n",
        "import torch\n",
        "from torch import nn\n",
        "import matplotlib.pyplot as plt\n",
        "\n",
        "torch.__version__"
      ]
    },
    {
      "cell_type": "markdown",
      "source": [
        "### Setting up device agnostic code"
      ],
      "metadata": {
        "id": "aTFOyrYYWSlT"
      }
    },
    {
      "cell_type": "code",
      "source": [
        "device = \"cuda\" if torch.cuda.is_available() else \"cpu\"\n",
        "device"
      ],
      "metadata": {
        "colab": {
          "base_uri": "https://localhost:8080/",
          "height": 35
        },
        "id": "g8Vgx_PHV8k5",
        "outputId": "dff32dc9-7711-40cb-8868-11c453f7a368"
      },
      "execution_count": 96,
      "outputs": [
        {
          "output_type": "execute_result",
          "data": {
            "text/plain": [
              "'cuda'"
            ],
            "application/vnd.google.colaboratory.intrinsic+json": {
              "type": "string"
            }
          },
          "metadata": {},
          "execution_count": 96
        }
      ]
    },
    {
      "cell_type": "markdown",
      "source": [
        "### 1. Create a straight line dataset using the linear regression formula `(weight * X + bias)`.\n",
        "\n",
        "* Set `weight=0.3` and `bias=0.9` there should be at least `100` datapoints total.\n",
        "* Split the data into `80%` training, `20%` testing.\n",
        "* Plot the training and testing data so it becomes visual."
      ],
      "metadata": {
        "id": "i554ifAlWp98"
      }
    },
    {
      "cell_type": "code",
      "source": [
        "# Set weight=0.3 and bias=0.9 there should be at least 100 datapoints total.\n",
        "weight = 0.3\n",
        "bias = 0.9\n",
        "start, end, step = 0, 1, 0.01\n",
        "\n",
        "X = torch.arange(start, end, step)\n",
        "y = weight * X + bias\n",
        "\n",
        "# Split the data into 80% training, 20% testing.\n",
        "split = int(0.8 * len(X))\n",
        "X_train, y_train = X[:split], y[:split]\n",
        "X_test, y_test = X[split:], y[split:]\n",
        "\n",
        "len(X_train), len(y_train), len(X_test), len(y_test)"
      ],
      "metadata": {
        "colab": {
          "base_uri": "https://localhost:8080/"
        },
        "id": "La4U9f0aWeGk",
        "outputId": "5b2b470c-025b-419c-8f13-6938582b3349"
      },
      "execution_count": 97,
      "outputs": [
        {
          "output_type": "execute_result",
          "data": {
            "text/plain": [
              "(80, 80, 20, 20)"
            ]
          },
          "metadata": {},
          "execution_count": 97
        }
      ]
    },
    {
      "cell_type": "code",
      "source": [
        "# Plot the training and testing data so it becomes visual.\n",
        "def plot_predictions(x_train = X_train,\n",
        "                     y_train = y_train,\n",
        "                     x_test = X_test,\n",
        "                     y_test = y_test,\n",
        "                     predictions = None):\n",
        "  plt.figure(figsize=(10, 7))\n",
        "  plt.scatter(x_train.numpy(), y_train, c = 'b', s = 4, label = 'Training data')\n",
        "  plt.scatter(x_test, y_test, c = 'g', s = 4, label = 'Testing data')\n",
        "\n",
        "  if predictions is not None:\n",
        "    plt.scatter(x_test, predictions, c = 'r', s = 4, label = 'Predictions')\n",
        "\n",
        "  plt.legend(prop = {'size': 14})\n",
        "  plt.show()\n",
        "\n",
        "plot_predictions()"
      ],
      "metadata": {
        "colab": {
          "base_uri": "https://localhost:8080/",
          "height": 599
        },
        "id": "bMTeo9LdXP6w",
        "outputId": "d95474ac-becd-4916-b946-604479ff3518"
      },
      "execution_count": 98,
      "outputs": [
        {
          "output_type": "display_data",
          "data": {
            "text/plain": [
              "<Figure size 1000x700 with 1 Axes>"
            ],
            "image/png": "[encoded data removed]"
          },
          "metadata": {}
        }
      ]
    },
    {
      "cell_type": "markdown",
      "source": [
        "### 2. Build a PyTorch model by subclassing `nn.Module`.\n",
        "\n",
        "* Inside should be a randomly initialized `nn.Parameter()` with `requires_grad=True`, one for `weights` and one for `bias`.\n",
        "* Implement the `forward()` method to compute the linear regression function you used to create the dataset in 1.\n",
        "* Constructed the model, make an instance of it and check its `state_dict()`.\n",
        "\n",
        "> Note: If you'd like to use nn.Linear() instead of nn.Parameter() you can."
      ],
      "metadata": {
        "id": "1TJOpZ3JZaqr"
      }
    },
    {
      "cell_type": "code",
      "source": [
        "# Create PyTorch Linear regression model\n",
        "class LinearRegressionModel_e0(nn.Module):\n",
        "  def __init__(self):\n",
        "    super().__init__()\n",
        "    self.weight = nn.Parameter(torch.randn(1,\n",
        "                                           requires_grad = True,\n",
        "                                           dtype = torch.float))\n",
        "    self.bias = nn.Parameter(torch.rand(1,\n",
        "                                        requires_grad = True,\n",
        "                                        dtype = torch.float))\n",
        "  # Implement the forward() method to compute the linear regression function\n",
        "  def forward(self, x: torch.Tensor) -> torch.Tensor:\n",
        "    return self.weight * x + self.bias\n",
        "\n",
        "# Constructed the model, make an instance of it and check its state_dict()\n",
        "torch.manual_seed(42)\n",
        "model_e0 = LinearRegressionModel_e0()\n",
        "model_e0.state_dict()"
      ],
      "metadata": {
        "colab": {
          "base_uri": "https://localhost:8080/"
        },
        "id": "TleBxWe3ZGA4",
        "outputId": "9d9ae9b1-13e2-413d-a401-b49a52e060f7"
      },
      "execution_count": 99,
      "outputs": [
        {
          "output_type": "execute_result",
          "data": {
            "text/plain": [
              "OrderedDict([('weight', tensor([0.3367])), ('bias', tensor([0.3904]))])"
            ]
          },
          "metadata": {},
          "execution_count": 99
        }
      ]
    },
    {
      "cell_type": "code",
      "source": [
        "# Make predictions with model\n",
        "with torch.inference_mode():\n",
        "  y_preds = model_e0(X_test)\n",
        "\n",
        "# You can also do something similar with torch.no_grad, but torch.inference_mode is prefered\n",
        "\n",
        "print(y_test, y_preds, sep='\\n')\n",
        "plot_predictions(predictions=y_preds)"
      ],
      "metadata": {
        "colab": {
          "base_uri": "https://localhost:8080/",
          "height": 701
        },
        "id": "GKP7KGYzj2kJ",
        "outputId": "7816bb15-4083-4cbd-cb9f-e33a5d7ef588"
      },
      "execution_count": 100,
      "outputs": [
        {
          "output_type": "stream",
          "name": "stdout",
          "text": [
            "tensor([1.1400, 1.1430, 1.1460, 1.1490, 1.1520, 1.1550, 1.1580, 1.1610, 1.1640,\n",
            "        1.1670, 1.1700, 1.1730, 1.1760, 1.1790, 1.1820, 1.1850, 1.1880, 1.1910,\n",
            "        1.1940, 1.1970])\n",
            "tensor([0.6598, 0.6632, 0.6665, 0.6699, 0.6733, 0.6766, 0.6800, 0.6834, 0.6867,\n",
            "        0.6901, 0.6935, 0.6968, 0.7002, 0.7036, 0.7069, 0.7103, 0.7137, 0.7170,\n",
            "        0.7204, 0.7238])\n"
          ]
        },
        {
          "output_type": "display_data",
          "data": {
            "text/plain": [
              "<Figure size 1000x700 with 1 Axes>"
            ],
            "image/png": "[encoded data removed]"
          },
          "metadata": {}
        }
      ]
    },
    {
      "cell_type": "markdown",
      "source": [
        "### 3. Create a loss function and optimizer using `nn.L1Loss()` and `torch.optim.SGD(params, lr)` respectively.\n",
        "\n",
        "* Set the learning rate of the optimizer to be 0.01 and the parameters to optimize should be the model parameters from the model you created in 2.\n",
        "* Write a training loop to perform the appropriate training steps for 300 epochs.\n",
        "* The training loop should test the model on the test dataset every 20 epochs."
      ],
      "metadata": {
        "id": "lfmXOi1Lb7j9"
      }
    },
    {
      "cell_type": "code",
      "source": [
        "# Create a loss function\n",
        "loss_fn = nn.L1Loss()\n",
        "\n",
        "# Create Optimizer\n",
        "optimizer = torch.optim.SGD(params = model_e0.parameters(),\n",
        "                            lr = 0.01)"
      ],
      "metadata": {
        "id": "-yPbh6h9bLLb"
      },
      "execution_count": 101,
      "outputs": []
    },
    {
      "cell_type": "code",
      "source": [
        "# Write a training loop to perform the appropriate training steps for 300 epochs.\n",
        "torch.manual_seed(42)\n",
        "epochs = 300\n",
        "\n",
        "X_train = X_train.to(device)\n",
        "y_train = y_train.to(device)\n",
        "X_test = X_test.to(device)\n",
        "y_test = y_test.to(device)\n",
        "model_e0.to(device)\n",
        "\n",
        "for epoch in range(epochs):\n",
        "\n",
        "  # Training model\n",
        "  model_e0.train()\n",
        "\n",
        "  # Forward pass\n",
        "  y_pred = model_e0(X_train)\n",
        "\n",
        "  # Calculate loss\n",
        "  train_loss = loss_fn(y_pred, y_train)\n",
        "\n",
        "  # Optimizer zero grad\n",
        "  optimizer.zero_grad()\n",
        "\n",
        "  # Loss backward\n",
        "  train_loss.backward()\n",
        "\n",
        "  # Optimizer step\n",
        "  optimizer.step()\n",
        "\n",
        "  # Testing model on 20th epochs\n",
        "  if epoch % 20 == 0:\n",
        "    model_e0.eval()\n",
        "\n",
        "    with torch.inference_mode():\n",
        "      test_pred = model_e0(X_test)\n",
        "\n",
        "      test_loss = loss_fn(test_pred, y_test)\n",
        "\n",
        "    # Print out loss\n",
        "    print(f\"Epoch: {epoch} | Train Loss: {train_loss} | Test Loss: {test_loss}\")\n",
        "\n"
      ],
      "metadata": {
        "colab": {
          "base_uri": "https://localhost:8080/"
        },
        "id": "D3yt5565cmFF",
        "outputId": "3a70b95c-08db-42c0-b418-18151df46b2d"
      },
      "execution_count": 102,
      "outputs": [
        {
          "output_type": "stream",
          "name": "stdout",
          "text": [
            "Epoch: 0 | Train Loss: 0.4950591027736664 | Test Loss: 0.4631786346435547\n",
            "Epoch: 20 | Train Loss: 0.2638542652130127 | Test Loss: 0.19247382879257202\n",
            "Epoch: 40 | Train Loss: 0.049216583371162415 | Test Loss: 0.05968007445335388\n",
            "Epoch: 60 | Train Loss: 0.03414512798190117 | Test Loss: 0.07812028378248215\n",
            "Epoch: 80 | Train Loss: 0.02729099802672863 | Test Loss: 0.06282456964254379\n",
            "Epoch: 100 | Train Loss: 0.020436866208910942 | Test Loss: 0.04752882197499275\n",
            "Epoch: 120 | Train Loss: 0.013585656881332397 | Test Loss: 0.031201321631669998\n",
            "Epoch: 140 | Train Loss: 0.006734463851898909 | Test Loss: 0.014873749576508999\n",
            "Epoch: 160 | Train Loss: 0.009003933519124985 | Test Loss: 0.000663799059111625\n",
            "Epoch: 180 | Train Loss: 0.009003933519124985 | Test Loss: 0.000663799059111625\n",
            "Epoch: 200 | Train Loss: 0.009003933519124985 | Test Loss: 0.000663799059111625\n",
            "Epoch: 220 | Train Loss: 0.009003933519124985 | Test Loss: 0.000663799059111625\n",
            "Epoch: 240 | Train Loss: 0.009003933519124985 | Test Loss: 0.000663799059111625\n",
            "Epoch: 260 | Train Loss: 0.009003933519124985 | Test Loss: 0.000663799059111625\n",
            "Epoch: 280 | Train Loss: 0.009003933519124985 | Test Loss: 0.000663799059111625\n"
          ]
        }
      ]
    },
    {
      "cell_type": "code",
      "source": [
        "model_e0.state_dict()"
      ],
      "metadata": {
        "colab": {
          "base_uri": "https://localhost:8080/"
        },
        "id": "WRqBYyIgiuSv",
        "outputId": "a614ec70-6d36-4dfe-fda1-d76b1be2b50f"
      },
      "execution_count": 103,
      "outputs": [
        {
          "output_type": "execute_result",
          "data": {
            "text/plain": [
              "OrderedDict([('weight', tensor([0.3077], device='cuda:0')),\n",
              "             ('bias', tensor([0.9059], device='cuda:0'))])"
            ]
          },
          "metadata": {},
          "execution_count": 103
        }
      ]
    },
    {
      "cell_type": "markdown",
      "source": [
        "### 4. Make predictions with the trained model on the test data.\n",
        "\n",
        "* Visualize these predictions against the original training and testing data (**note**: make sure the predictions are not on the GPU if you want to use non-CUDA-enabled libraries such as matplotlib to plot)."
      ],
      "metadata": {
        "id": "ZSwqQfz4gLU4"
      }
    },
    {
      "cell_type": "code",
      "source": [
        "# 1. Set the model in evaluation mode\n",
        "model_e0.eval()\n",
        "\n",
        "with torch.inference_mode():\n",
        "  preds = model_e0(X_test)\n",
        "\n",
        "X_test.device, preds.device\n",
        "plot_predictions(predictions=preds.cpu().numpy())"
      ],
      "metadata": {
        "colab": {
          "base_uri": "https://localhost:8080/",
          "height": 599
        },
        "id": "J97gv_b1efZl",
        "outputId": "e17cdd41-9057-4e58-f02d-839703a8fb74"
      },
      "execution_count": 104,
      "outputs": [
        {
          "output_type": "display_data",
          "data": {
            "text/plain": [
              "<Figure size 1000x700 with 1 Axes>"
            ],
            "image/png": "[encoded data removed]"
          },
          "metadata": {}
        }
      ]
    },
    {
      "cell_type": "markdown",
      "source": [
        "### 5. Save your trained model's state_dict() to file.\n",
        "\n",
        "* Create a new instance of your model class you made in 2. and load in the `state_dict()` you just saved to it.\n",
        "* Perform predictions on your test data with the loaded model and confirm they match the original model predictions from 4."
      ],
      "metadata": {
        "id": "VQN2Sq0Skvcl"
      }
    },
    {
      "cell_type": "code",
      "source": [],
      "metadata": {
        "id": "LodpAxG2gwGU"
      },
      "execution_count": 104,
      "outputs": []
    }
  ]
}