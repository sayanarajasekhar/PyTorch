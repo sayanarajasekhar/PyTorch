{
  "nbformat": 4,
  "nbformat_minor": 0,
  "metadata": {
    "colab": {
      "provenance": [],
      "authorship_tag": "ABX9TyNL9N1kQRR1G/rfB+SrYTwb",
      "include_colab_link": true
    },
    "kernelspec": {
      "name": "python3",
      "display_name": "Python 3"
    },
    "language_info": {
      "name": "python"
    }
  },
  "cells": [
    {
      "cell_type": "markdown",
      "metadata": {
        "id": "view-in-github",
        "colab_type": "text"
      },
      "source": [
        "<a href=\"https://colab.research.google.com/github/sayanarajasekhar/PyTorch/blob/main/pytorch_linear_regression_model_practice.ipynb\" target=\"_parent\"><img src=\"https://colab.research.google.com/assets/colab-badge.svg\" alt=\"Open In Colab\"/></a>"
      ]
    },
    {
      "cell_type": "markdown",
      "source": [
        "# 1. Model_0 - Used `nn.Parameter()` and manual test data creating"
      ],
      "metadata": {
        "id": "ibrCDMpOB1-A"
      }
    },
    {
      "cell_type": "code",
      "execution_count": null,
      "metadata": {
        "id": "vyuNmk6tBTAe"
      },
      "outputs": [],
      "source": [
        "import torch\n",
        "from torch import nn\n",
        "import matplotlib.pyplot as plt"
      ]
    },
    {
      "cell_type": "markdown",
      "source": [
        "## 1.1 Create data"
      ],
      "metadata": {
        "id": "Dw-HK2YtM1eO"
      }
    },
    {
      "cell_type": "code",
      "source": [
        "weight = 0.7\n",
        "bias = 0.3\n",
        "start, end , step = 0, 1, 0.002\n",
        "\n",
        "X = torch.arange(start, end, step)\n",
        "y = weight * X + bias\n",
        "\n",
        "len(X), len(y), X[:5], y[:5]"
      ],
      "metadata": {
        "colab": {
          "base_uri": "https://localhost:8080/"
        },
        "id": "PKqPNdecMyti",
        "outputId": "28d33872-0acd-4fff-dcad-35c9a7fd635f"
      },
      "execution_count": null,
      "outputs": [
        {
          "output_type": "execute_result",
          "data": {
            "text/plain": [
              "(500,\n",
              " 500,\n",
              " tensor([0.0000, 0.0020, 0.0040, 0.0060, 0.0080]),\n",
              " tensor([0.3000, 0.3014, 0.3028, 0.3042, 0.3056]))"
            ]
          },
          "metadata": {},
          "execution_count": 2
        }
      ]
    },
    {
      "cell_type": "markdown",
      "source": [
        "## 1.2 Split training and test data"
      ],
      "metadata": {
        "id": "KggV6mX1NX7w"
      }
    },
    {
      "cell_type": "code",
      "source": [
        "split = int(0.8 * len(X))\n",
        "X_train, y_train = X[:split], y[:split]\n",
        "X_test, y_test = X[split:], y[split:]\n",
        "\n",
        "len(X_train), len(y_train), len(X_test), len(y_test)"
      ],
      "metadata": {
        "colab": {
          "base_uri": "https://localhost:8080/"
        },
        "id": "EtCuBNiiNQSe",
        "outputId": "0b6e6107-97d9-4638-be3d-3e146630d238"
      },
      "execution_count": null,
      "outputs": [
        {
          "output_type": "execute_result",
          "data": {
            "text/plain": [
              "(400, 400, 100, 100)"
            ]
          },
          "metadata": {},
          "execution_count": 3
        }
      ]
    },
    {
      "cell_type": "markdown",
      "source": [
        "## 1.3 Create linear regression model"
      ],
      "metadata": {
        "id": "vwPFO9R9N6zx"
      }
    },
    {
      "cell_type": "code",
      "source": [
        "class LinearRegressionModelV0(nn.Module):\n",
        "  def __init__(self):\n",
        "    super().__init__()\n",
        "    self.weight = nn.Parameter(torch.rand(1, dtype = torch.float), requires_grad = True)\n",
        "    self.bias = nn.Parameter(torch.rand(1, dtype = torch.float), requires_grad = True)\n",
        "\n",
        "  def forward(self, x):\n",
        "    return self.weight * x + self.bias"
      ],
      "metadata": {
        "id": "yJWzU-GJN3Hs"
      },
      "execution_count": null,
      "outputs": []
    },
    {
      "cell_type": "markdown",
      "source": [
        "## 1.4 Create model_0"
      ],
      "metadata": {
        "id": "3vIDs1WNOxAi"
      }
    },
    {
      "cell_type": "code",
      "source": [
        "torch.manual_seed(42)\n",
        "model_0 = LinearRegressionModelV0()\n",
        "model_0.state_dict()"
      ],
      "metadata": {
        "colab": {
          "base_uri": "https://localhost:8080/"
        },
        "id": "Uofkl0UKOv1_",
        "outputId": "7c3beabe-7842-4539-f5ae-c4dacfa3b0b2"
      },
      "execution_count": null,
      "outputs": [
        {
          "output_type": "execute_result",
          "data": {
            "text/plain": [
              "OrderedDict([('weight', tensor([0.8823])), ('bias', tensor([0.9150]))])"
            ]
          },
          "metadata": {},
          "execution_count": 5
        }
      ]
    },
    {
      "cell_type": "markdown",
      "source": [
        "## 1.5 Create loss function and optimizer"
      ],
      "metadata": {
        "id": "Z8CE8iZmPCIY"
      }
    },
    {
      "cell_type": "code",
      "source": [
        "loss_fn = nn.L1Loss()\n",
        "optimizer = torch.optim.SGD(params = model_0.parameters(), lr = 0.00001)"
      ],
      "metadata": {
        "id": "6G8F_FKnO9Il"
      },
      "execution_count": null,
      "outputs": []
    },
    {
      "cell_type": "markdown",
      "source": [
        "## 1.6 Create train and test loop"
      ],
      "metadata": {
        "id": "bBAcAi6bPTTp"
      }
    },
    {
      "cell_type": "code",
      "source": [
        "epochs = 500\n",
        "\n",
        "for epoch in range(epochs):\n",
        "  ## Train\n",
        "  model_0.train()\n",
        "\n",
        "  # 1. Forward pass\n",
        "  train_preds = model_0(X_train)\n",
        "\n",
        "  # 2. Calculate loss\n",
        "  train_loss = loss_fn(train_preds, y_train)\n",
        "\n",
        "  # 3. Optimize zero grad\n",
        "  optimizer.zero_grad()\n",
        "\n",
        "  # 4. Loss backward\n",
        "  train_loss.backward()\n",
        "\n",
        "  # 5. optimize step\n",
        "  optimizer.step()\n",
        "\n",
        "  ## Test\n",
        "  model_0.eval()\n",
        "  with torch.inference_mode():\n",
        "\n",
        "    # 1. Forward pass\n",
        "    test_preds = model_0(X_test)\n",
        "\n",
        "    # 2. Calculate loss\n",
        "    test_loss = loss_fn(test_preds, y_test)\n",
        "\n",
        "  if epoch % 20 == 0:\n",
        "    print(f\"Epoch: {epoch} | Train Loss: {train_loss:.4f} | Test Loss: {test_loss:.4f}\")\n",
        "\n",
        "model_0.state_dict()"
      ],
      "metadata": {
        "colab": {
          "base_uri": "https://localhost:8080/"
        },
        "id": "eGPAmDOVPQ8z",
        "outputId": "d8ca94a4-0abd-4887-bdc3-b540f1bc7d6b"
      },
      "execution_count": null,
      "outputs": [
        {
          "output_type": "stream",
          "name": "stdout",
          "text": [
            "Epoch: 0 | Train Loss: 0.6877 | Test Loss: 0.7789\n",
            "Epoch: 20 | Train Loss: 0.6875 | Test Loss: 0.7786\n",
            "Epoch: 40 | Train Loss: 0.6873 | Test Loss: 0.7783\n",
            "Epoch: 60 | Train Loss: 0.6870 | Test Loss: 0.7780\n",
            "Epoch: 80 | Train Loss: 0.6868 | Test Loss: 0.7778\n",
            "Epoch: 100 | Train Loss: 0.6866 | Test Loss: 0.7775\n",
            "Epoch: 120 | Train Loss: 0.6863 | Test Loss: 0.7772\n",
            "Epoch: 140 | Train Loss: 0.6861 | Test Loss: 0.7769\n",
            "Epoch: 160 | Train Loss: 0.6859 | Test Loss: 0.7767\n",
            "Epoch: 180 | Train Loss: 0.6856 | Test Loss: 0.7764\n",
            "Epoch: 200 | Train Loss: 0.6854 | Test Loss: 0.7761\n",
            "Epoch: 220 | Train Loss: 0.6852 | Test Loss: 0.7759\n",
            "Epoch: 240 | Train Loss: 0.6849 | Test Loss: 0.7756\n",
            "Epoch: 260 | Train Loss: 0.6847 | Test Loss: 0.7753\n",
            "Epoch: 280 | Train Loss: 0.6845 | Test Loss: 0.7750\n",
            "Epoch: 300 | Train Loss: 0.6842 | Test Loss: 0.7748\n",
            "Epoch: 320 | Train Loss: 0.6840 | Test Loss: 0.7745\n",
            "Epoch: 340 | Train Loss: 0.6838 | Test Loss: 0.7742\n",
            "Epoch: 360 | Train Loss: 0.6836 | Test Loss: 0.7740\n",
            "Epoch: 380 | Train Loss: 0.6833 | Test Loss: 0.7737\n",
            "Epoch: 400 | Train Loss: 0.6831 | Test Loss: 0.7734\n",
            "Epoch: 420 | Train Loss: 0.6829 | Test Loss: 0.7731\n",
            "Epoch: 440 | Train Loss: 0.6826 | Test Loss: 0.7729\n",
            "Epoch: 460 | Train Loss: 0.6824 | Test Loss: 0.7726\n",
            "Epoch: 480 | Train Loss: 0.6822 | Test Loss: 0.7723\n"
          ]
        },
        {
          "output_type": "execute_result",
          "data": {
            "text/plain": [
              "OrderedDict([('weight', tensor([0.8803])), ('bias', tensor([0.9100]))])"
            ]
          },
          "metadata": {},
          "execution_count": 7
        }
      ]
    },
    {
      "cell_type": "markdown",
      "source": [
        "# 2. Model_1 - Used `nn.Linear()` and used `make_regression()` to create test data"
      ],
      "metadata": {
        "id": "U_uzt6ZQl1jy"
      }
    },
    {
      "cell_type": "code",
      "source": [
        "import torch\n",
        "from torch import nn\n",
        "from sklearn.datasets import make_regression\n",
        "from sklearn.model_selection import train_test_split\n",
        "import matplotlib.pyplot as plt"
      ],
      "metadata": {
        "id": "8I4daKjomIqg"
      },
      "execution_count": null,
      "outputs": []
    },
    {
      "cell_type": "markdown",
      "source": [
        "## 2.1 Create data using make_regression"
      ],
      "metadata": {
        "id": "RrWLucbWmAic"
      }
    },
    {
      "cell_type": "code",
      "source": [
        "samples = 1000\n",
        "features = 1\n",
        "\n",
        "X, y = make_regression(n_samples = samples,\n",
        "                       n_features = 1,\n",
        "                       n_targets = 1,\n",
        "                       random_state = 42)\n",
        "len(X), len(y), X[0], y[0]"
      ],
      "metadata": {
        "id": "6ItlZ9q3l450",
        "outputId": "8c706b48-0681-42ab-8865-abd43569a328",
        "colab": {
          "base_uri": "https://localhost:8080/"
        }
      },
      "execution_count": null,
      "outputs": [
        {
          "output_type": "execute_result",
          "data": {
            "text/plain": [
              "(1000, 1000, array([-1.20029641]), np.float64(-20.102874172998494))"
            ]
          },
          "metadata": {},
          "execution_count": 16
        }
      ]
    },
    {
      "cell_type": "markdown",
      "source": [
        "## 2.2 Split training and test data"
      ],
      "metadata": {
        "id": "msonry8FnEQG"
      }
    },
    {
      "cell_type": "code",
      "source": [
        "X = torch.from_numpy(X).type(torch.float)\n",
        "y = torch.from_numpy(y).type(torch.float).unsqueeze(dim = 1)\n",
        "\n",
        "X_train, X_test, y_train, y_test = train_test_split(X,\n",
        "                                                    y,\n",
        "                                                    test_size = 0.2,\n",
        "                                                    random_state = 42)\n",
        "\n",
        "len(X_train), len(y_train), len(X_test), len(y_test)"
      ],
      "metadata": {
        "id": "0MAf3sSQm92u",
        "outputId": "b157673f-1875-4be4-d6f1-4ebdab679fd8",
        "colab": {
          "base_uri": "https://localhost:8080/"
        }
      },
      "execution_count": null,
      "outputs": [
        {
          "output_type": "execute_result",
          "data": {
            "text/plain": [
              "(800, 800, 200, 200)"
            ]
          },
          "metadata": {},
          "execution_count": 17
        }
      ]
    },
    {
      "cell_type": "code",
      "source": [
        "def plot_data(train_data = X_train,\n",
        "              train_labels = y_train,\n",
        "              test_data = X_test,\n",
        "              test_labels = y_test,\n",
        "              preds = None):\n",
        "  plt.figure(figsize=(10,7))\n",
        "  plt.scatter(train_data, train_labels, c = 'b', s = 4, label = 'Train Data')\n",
        "  plt.scatter(test_data, test_labels, c = 'g', s = 4, label = 'Test Data')\n",
        "  if preds is not None:\n",
        "    plt.scatter(test_data, preds, c = 'r', s = 4, label = 'Predications')\n",
        "  plt.legend(prop = {'size': 10})\n",
        "\n",
        "plot_data()"
      ],
      "metadata": {
        "id": "6uVZo-i6nnKU",
        "outputId": "f3c35ac4-fd61-48d4-a5b6-fbcdf87a2bc4",
        "colab": {
          "base_uri": "https://localhost:8080/",
          "height": 594
        }
      },
      "execution_count": null,
      "outputs": [
        {
          "output_type": "display_data",
          "data": {
            "text/plain": [
              "<Figure size 1000x700 with 1 Axes>"
            ],
            "image/png": "[encoded data removed]"
          },
          "metadata": {}
        }
      ]
    },
    {
      "cell_type": "markdown",
      "source": [
        "## 2.3 Create linear regression model"
      ],
      "metadata": {
        "id": "4jcjhPS8pFpd"
      }
    },
    {
      "cell_type": "code",
      "source": [
        "class LinearRegressionModelV1(nn.Module):\n",
        "  def __init__(self):\n",
        "    super().__init__()\n",
        "    self.linear_layer = nn.Linear(in_features = 1, out_features = 1)\n",
        "\n",
        "  def forward(self, x):\n",
        "    return self.linear_layer(x)"
      ],
      "metadata": {
        "id": "UB7N56Q1pIWz"
      },
      "execution_count": null,
      "outputs": []
    },
    {
      "cell_type": "markdown",
      "source": [
        "## 2.4 Create model_0"
      ],
      "metadata": {
        "id": "-y2arDZHpeor"
      }
    },
    {
      "cell_type": "code",
      "source": [
        "torch.manual_seed(42)\n",
        "model_1 = LinearRegressionModelV1()\n",
        "model_1.state_dict()"
      ],
      "metadata": {
        "id": "OvXY4onQpd8E",
        "outputId": "cd599f33-b4f2-4278-e818-b614e6889d29",
        "colab": {
          "base_uri": "https://localhost:8080/"
        }
      },
      "execution_count": null,
      "outputs": [
        {
          "output_type": "execute_result",
          "data": {
            "text/plain": [
              "OrderedDict([('linear_layer.weight', tensor([[0.7645]])),\n",
              "             ('linear_layer.bias', tensor([0.8300]))])"
            ]
          },
          "metadata": {},
          "execution_count": 22
        }
      ]
    },
    {
      "cell_type": "markdown",
      "source": [
        "## 2.5 Create loss function and optimizer"
      ],
      "metadata": {
        "id": "tk3dEcZ3ppDH"
      }
    },
    {
      "cell_type": "code",
      "source": [
        "loss_fn = nn.L1Loss()\n",
        "optimizer = torch.optim.SGD(params = model_1.parameters(), lr = 0.00001)"
      ],
      "metadata": {
        "id": "66rtNVTCplWq"
      },
      "execution_count": null,
      "outputs": []
    },
    {
      "cell_type": "markdown",
      "source": [
        "## 2.6 Create train and test loop"
      ],
      "metadata": {
        "id": "V7gqL5Jwp2Hl"
      }
    },
    {
      "cell_type": "code",
      "source": [
        "epochs = 500\n",
        "\n",
        "for epoch in range(epochs):\n",
        "  ## Train\n",
        "  model_1.train()\n",
        "\n",
        "  # 1. Forward pass\n",
        "  train_preds = model_1(X_train)\n",
        "\n",
        "  # 2. Calculate loss\n",
        "  train_loss = loss_fn(train_preds, y_train)\n",
        "\n",
        "  # 3. Optimizer zero grad\n",
        "  optimizer.zero_grad()\n",
        "\n",
        "  # 4. Loss backward\n",
        "  train_loss.backward()\n",
        "\n",
        "  # 5. Optimize step\n",
        "  optimizer.step()\n",
        "\n",
        "  ## Test\n",
        "  model_0.eval()\n",
        "  with torch.inference_mode():\n",
        "\n",
        "    # 1. Forward pass\n",
        "    test_preds = model_1(X_test)\n",
        "\n",
        "    # 2. Calculate loss\n",
        "    test_loss = loss_fn(test_preds, y_test)\n",
        "\n",
        "  if epoch % 50 == 0:\n",
        "    print(f\"Epoch: {epoch} | Train Loss: {train_loss:.5f} | Test Loss: {test_loss:.5f}\")"
      ],
      "metadata": {
        "id": "KZEPu9g6p40v",
        "outputId": "36febc0d-2a8e-4d61-c7c0-474f5c83964d",
        "colab": {
          "base_uri": "https://localhost:8080/"
        }
      },
      "execution_count": null,
      "outputs": [
        {
          "output_type": "stream",
          "name": "stdout",
          "text": [
            "Epoch: 0 | Train Loss: 0.00005 | Test Loss: 0.00004\n",
            "Epoch: 50 | Train Loss: 0.00001 | Test Loss: 0.00001\n",
            "Epoch: 100 | Train Loss: 0.00000 | Test Loss: 0.00001\n",
            "Epoch: 150 | Train Loss: 0.00000 | Test Loss: 0.00001\n",
            "Epoch: 200 | Train Loss: 0.00000 | Test Loss: 0.00001\n",
            "Epoch: 250 | Train Loss: 0.00000 | Test Loss: 0.00001\n",
            "Epoch: 300 | Train Loss: 0.00000 | Test Loss: 0.00001\n",
            "Epoch: 350 | Train Loss: 0.00000 | Test Loss: 0.00001\n",
            "Epoch: 400 | Train Loss: 0.00000 | Test Loss: 0.00001\n",
            "Epoch: 450 | Train Loss: 0.00000 | Test Loss: 0.00001\n"
          ]
        }
      ]
    },
    {
      "cell_type": "markdown",
      "source": [
        "## 2.7 Compare model"
      ],
      "metadata": {
        "id": "vR4tv79nrF3F"
      }
    },
    {
      "cell_type": "code",
      "source": [
        "model_1.eval()\n",
        "with torch.inference_mode():\n",
        "  test_preds = model_1(X_test)\n",
        "\n",
        "plot_data(preds = test_preds)"
      ],
      "metadata": {
        "id": "oHSSMl1Ep1IE",
        "outputId": "42164456-138a-4bd9-8ac3-6ea4473044f4",
        "colab": {
          "base_uri": "https://localhost:8080/",
          "height": 594
        }
      },
      "execution_count": null,
      "outputs": [
        {
          "output_type": "display_data",
          "data": {
            "text/plain": [
              "<Figure size 1000x700 with 1 Axes>"
            ],
            "image/png": "[encoded data removed]"
          },
          "metadata": {}
        }
      ]
    },
    {
      "cell_type": "markdown",
      "source": [
        "# 3. Modlel_2 - Createing test data with 2 features"
      ],
      "metadata": {
        "id": "EmFS7BhPaUwV"
      }
    },
    {
      "cell_type": "code",
      "source": [],
      "metadata": {
        "id": "X2c1iohjaZlr"
      },
      "execution_count": null,
      "outputs": []
    }
  ]
}