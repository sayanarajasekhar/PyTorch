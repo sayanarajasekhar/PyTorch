{
  "nbformat": 4,
  "nbformat_minor": 0,
  "metadata": {
    "colab": {
      "provenance": [],
      "authorship_tag": "ABX9TyNSNjehr9oGdBvuSL/XK3sv",
      "include_colab_link": true
    },
    "kernelspec": {
      "name": "python3",
      "display_name": "Python 3"
    },
    "language_info": {
      "name": "python"
    }
  },
  "cells": [
    {
      "cell_type": "markdown",
      "metadata": {
        "id": "view-in-github",
        "colab_type": "text"
      },
      "source": [
        "<a href=\"https://colab.research.google.com/github/sayanarajasekhar/PyTorch/blob/main/01_pytorch_workflow.ipynb\" target=\"_parent\"><img src=\"https://colab.research.google.com/assets/colab-badge.svg\" alt=\"Open In Colab\"/></a>"
      ]
    },
    {
      "cell_type": "markdown",
      "source": [
        "# PyTorch Workflow\n",
        "\n",
        "Explore an example of PyTorch end-to-end workflow"
      ],
      "metadata": {
        "id": "ZH2LDFpdVKRs"
      }
    },
    {
      "cell_type": "code",
      "source": [
        "what_we_are_doing = {1: \"Data (Prepare and Load)\",\n",
        "                     2: \"Build Model\",\n",
        "                     3: \"Fitting the model to data (Training)\",\n",
        "                     4: \"Make predictions and Evaluting model (Inference)\",\n",
        "                     5: \"Saving and Loading the model\",\n",
        "                     6: \"Putting all together\"}\n",
        "what_we_are_doing"
      ],
      "metadata": {
        "colab": {
          "base_uri": "https://localhost:8080/"
        },
        "id": "KZyXwZRLVSi-",
        "outputId": "f88d499b-fb42-4554-a0b3-dd9fe6535376"
      },
      "execution_count": 2,
      "outputs": [
        {
          "output_type": "execute_result",
          "data": {
            "text/plain": [
              "{1: 'Data (Prepare and Load)',\n",
              " 2: 'Build Model',\n",
              " 3: 'Fitting the model to data (Training)',\n",
              " 4: 'Make predictions and Evaluting model (Inference)',\n",
              " 5: 'Saving and Loading the model',\n",
              " 6: 'Putting all together'}"
            ]
          },
          "metadata": {},
          "execution_count": 2
        }
      ]
    },
    {
      "cell_type": "code",
      "source": [
        "import torch\n",
        "from torch import nn # nn contains all of PyTorch's building block from neural networks\n",
        "import matplotlib.pyplot as plt\n",
        "\n",
        "# Check PyTorch Version\n",
        "torch.__version__"
      ],
      "metadata": {
        "colab": {
          "base_uri": "https://localhost:8080/",
          "height": 35
        },
        "id": "kzJKJXj3V8W7",
        "outputId": "5936818d-8e45-4059-bbcb-f0a0afdbc77f"
      },
      "execution_count": 3,
      "outputs": [
        {
          "output_type": "execute_result",
          "data": {
            "text/plain": [
              "'2.8.0+cu126'"
            ],
            "application/vnd.google.colaboratory.intrinsic+json": {
              "type": "string"
            }
          },
          "metadata": {},
          "execution_count": 3
        }
      ]
    },
    {
      "cell_type": "markdown",
      "source": [
        "## 1. Data (Prepare and Load)\n",
        "\n",
        "Data can be almost anything... in Machine learning\n",
        "\n",
        "* Excel speadsheet\n",
        "* Image of any kind\n",
        "* Videos\n",
        "* Audio\n",
        "* DNA\n",
        "* Text\n",
        "\n",
        "Machine learning is a game of two parts:\n",
        "1. Get data into a numerical representaion.\n",
        "2. Build a model to learn patterns from the numerical representaion.\n",
        "\n",
        "To showcase this, let's create some *known* data using the **Linear Regression Formaula**\n",
        "\n",
        "A linear regression line has an equation of the form `Y = bX + a`, where `X` is the explanatory variable and `Y` is the dependent variable. The slope/gradient if the line is `b` and `a` is the intercept (the value of y when x = 0)\n",
        "\n",
        "We'll use a linear regression formula to make a string line with *know* **parameters**\n"
      ],
      "metadata": {
        "id": "PddgUu_zW_tC"
      }
    },
    {
      "cell_type": "code",
      "source": [
        "# Create *know* parameters\n",
        "\n",
        "weight = 0.7 # weight == b\n",
        "bias = 0.3 # bias == a\n",
        "\n",
        "# Create a range of numbers\n",
        "start = 0\n",
        "end = 1\n",
        "step = 0.02\n",
        "\n",
        "X = torch.arange(start, end, step).unsqueeze(dim=1)\n",
        "y = weight * X + bias\n",
        "\n",
        "X[:10], y[:10]"
      ],
      "metadata": {
        "colab": {
          "base_uri": "https://localhost:8080/"
        },
        "id": "y2AfLyVxWl2k",
        "outputId": "e5d886c5-ad17-4064-af1f-52b7895782f9"
      },
      "execution_count": 9,
      "outputs": [
        {
          "output_type": "execute_result",
          "data": {
            "text/plain": [
              "(tensor([[0.0000],\n",
              "         [0.0200],\n",
              "         [0.0400],\n",
              "         [0.0600],\n",
              "         [0.0800],\n",
              "         [0.1000],\n",
              "         [0.1200],\n",
              "         [0.1400],\n",
              "         [0.1600],\n",
              "         [0.1800]]),\n",
              " tensor([[0.3000],\n",
              "         [0.3140],\n",
              "         [0.3280],\n",
              "         [0.3420],\n",
              "         [0.3560],\n",
              "         [0.3700],\n",
              "         [0.3840],\n",
              "         [0.3980],\n",
              "         [0.4120],\n",
              "         [0.4260]]))"
            ]
          },
          "metadata": {},
          "execution_count": 9
        }
      ]
    },
    {
      "cell_type": "code",
      "source": [
        "len(X), len(y)"
      ],
      "metadata": {
        "colab": {
          "base_uri": "https://localhost:8080/"
        },
        "id": "IXmXkRwAdxP7",
        "outputId": "78700f13-950c-4bdd-aef6-44168b1e7bd4"
      },
      "execution_count": 10,
      "outputs": [
        {
          "output_type": "execute_result",
          "data": {
            "text/plain": [
              "(50, 50)"
            ]
          },
          "metadata": {},
          "execution_count": 10
        }
      ]
    },
    {
      "cell_type": "markdown",
      "source": [
        "### Splitting data into training and test sets (one of the most important concept in macine learning in general)\n",
        "\n",
        "One of most important steps in a machine learning project is creating a training and test set (and when required, a validation set).\n",
        "\n",
        "Each split of the dataset serves a specific purpose:\n",
        "\n",
        "| Split |\tPurpose\t| Amount of <br>total data | How often is <br>it used? |\n",
        "|------|------|------|------|\n",
        "| **Training set** | The model learns from this data <br>(like the course materials you study during the semester). | ~60-80% | Always |\n",
        "| **Validation set** | The model gets tuned on this data <br>(like the practice exam you take before the final exam).\t| ~10-20%\t| Often <br>but not always |\n",
        "| **Testing set**\t| The model gets evaluated on this data to test what it has learned <br>(like the final exam you take at the end of the semester). | ~10-20% | Always |\n",
        "\n",
        "Lets create training and testing datasets"
      ],
      "metadata": {
        "id": "9Je4j79Dc9s8"
      }
    },
    {
      "cell_type": "code",
      "source": [
        "# Create a train/test split\n",
        "train_split = int(0.8 * len(X)) # 80% of original data == 40\n",
        "print(train_split)"
      ],
      "metadata": {
        "colab": {
          "base_uri": "https://localhost:8080/"
        },
        "id": "YK_KPt3GcM9i",
        "outputId": "03edfd85-77e3-4d29-81f8-ddfc72468fa9"
      },
      "execution_count": 11,
      "outputs": [
        {
          "output_type": "stream",
          "name": "stdout",
          "text": [
            "40\n"
          ]
        }
      ]
    },
    {
      "cell_type": "code",
      "source": [
        "X_train, y_train = X[:train_split], y[:train_split]\n",
        "X_test, y_test = X[train_split:], y[train_split:]\n",
        "\n",
        "len(X_train), len(y_train), len(X_test), len(y_test)"
      ],
      "metadata": {
        "colab": {
          "base_uri": "https://localhost:8080/"
        },
        "id": "IWn3_p-Nf5wS",
        "outputId": "07a38975-9426-4564-cabd-ae00abe7a332"
      },
      "execution_count": 12,
      "outputs": [
        {
          "output_type": "execute_result",
          "data": {
            "text/plain": [
              "(40, 40, 10, 10)"
            ]
          },
          "metadata": {},
          "execution_count": 12
        }
      ]
    },
    {
      "cell_type": "markdown",
      "source": [
        "### Visualize data"
      ],
      "metadata": {
        "id": "7AGyiTtmg1cD"
      }
    },
    {
      "cell_type": "code",
      "source": [
        "def plot_predictions(train_data = X_train,\n",
        "                     train_labels = y_train,\n",
        "                     test_data = X_test,\n",
        "                     test_labels = y_test,\n",
        "                     predictions = None):\n",
        "  \"\"\"\n",
        "  Plots training data, test data and compares predictions.\n",
        "  \"\"\"\n",
        "  plt.figure(figsize=(10, 7))\n",
        "\n",
        "  # Plot training data in blue\n",
        "  plt.scatter(train_data, train_labels, c='b', s=4, label='Training Data')\n",
        "\n",
        "  # Plot test data in green\n",
        "  plt.scatter(test_data, test_labels, c='g', s=4, label='Test Data')\n",
        "\n",
        "  # If predictions\n",
        "  if predictions is not None:\n",
        "    plt.scatter(test_data, predictions, c='r', s=4, label='Predictions')\n",
        "\n",
        "  # Show legends\n",
        "  plt.legend(prop={'size': 14})"
      ],
      "metadata": {
        "id": "JpQVP7y-ghzY"
      },
      "execution_count": 13,
      "outputs": []
    },
    {
      "cell_type": "code",
      "source": [
        "plot_predictions()"
      ],
      "metadata": {
        "colab": {
          "base_uri": "https://localhost:8080/",
          "height": 586
        },
        "id": "uigg41LGie0J",
        "outputId": "d6a07de4-a129-4f3c-c4eb-5c831b5f9c7c"
      },
      "execution_count": 14,
      "outputs": [
        {
          "output_type": "display_data",
          "data": {
            "text/plain": [
              "<Figure size 1000x700 with 1 Axes>"
            ],
            "image/png": "[encoded data removed]"
          },
          "metadata": {}
        }
      ]
    },
    {
      "cell_type": "markdown",
      "source": [
        "## 2. Build model\n",
        "\n",
        "Let's build linear regression model"
      ],
      "metadata": {
        "id": "iPDYBg-qjStZ"
      }
    },
    {
      "cell_type": "code",
      "source": [
        "# Creare linear regression model class\n",
        "\n",
        "class LinearRegressionModel(nn.Module): # Almost everything in PyTorch inhernits from nn.module\n",
        "\n",
        "\n"
      ],
      "metadata": {
        "id": "Q-rCSLh4jbU_"
      },
      "execution_count": null,
      "outputs": []
    }
  ]
}