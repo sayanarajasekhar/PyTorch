{
  "nbformat": 4,
  "nbformat_minor": 0,
  "metadata": {
    "colab": {
      "provenance": [],
      "collapsed_sections": [
        "dn91Gw1e7wt8",
        "6t26Ucv575eZ",
        "tdvIAg_v8AO8"
      ],
      "gpuType": "T4",
      "authorship_tag": "ABX9TyN4/HvGNtAOi9n6XVWv55Y3",
      "include_colab_link": true
    },
    "kernelspec": {
      "name": "python3",
      "display_name": "Python 3"
    },
    "language_info": {
      "name": "python"
    }
  },
  "cells": [
    {
      "cell_type": "markdown",
      "metadata": {
        "id": "view-in-github",
        "colab_type": "text"
      },
      "source": [
        "<a href=\"https://colab.research.google.com/github/sayanarajasekhar/PyTorch/blob/main/00_pytorch_fundamentals.ipynb\" target=\"_parent\"><img src=\"https://colab.research.google.com/assets/colab-badge.svg\" alt=\"Open In Colab\"/></a>"
      ]
    },
    {
      "cell_type": "markdown",
      "source": [
        "# 00. PyTorch Fundamentals\n",
        "\n",
        "### What is PyTorch ?\n",
        "[PyTorch](https://pytorch.org/) is an open source machine learning and deep learning framework.\n",
        "\n",
        "### What can PyTorch be used for ?\n",
        "PyTorch allows you to manipulate and process data and write machine learning algorithms using Python code.\n",
        "\n"
      ],
      "metadata": {
        "id": "PsCFKZjftxQI"
      }
    },
    {
      "cell_type": "code",
      "source": [
        "import torch\n",
        "import pandas as pd\n",
        "import numpy as np\n",
        "import matplotlib.pyplot as plt\n",
        "print(torch.__version__)"
      ],
      "metadata": {
        "colab": {
          "base_uri": "https://localhost:8080/"
        },
        "id": "C1n6PyuOtwwu",
        "outputId": "f44b80b8-939a-4418-9dcc-d7fe709a3276"
      },
      "execution_count": 12,
      "outputs": [
        {
          "output_type": "stream",
          "name": "stdout",
          "text": [
            "2.8.0+cu126\n"
          ]
        }
      ]
    },
    {
      "cell_type": "markdown",
      "source": [
        "## Intoduction to tensors\n",
        "\n",
        "Tensors are the fundamental building blocks of machine learning.\n",
        "\n",
        "Their job is to represent data in a numerical way.\n",
        "\n",
        "For Example, you could represent an image as a tensor with shape ```[3, 224, 224]``` which would mean ```[color_channels, height, width]```"
      ],
      "metadata": {
        "id": "5zCZeHVmvSck"
      }
    },
    {
      "cell_type": "markdown",
      "source": [
        "## Creating tensors\n",
        "> Documentaion on [tensers](https://docs.pytorch.org/docs/stable/tensors.html)\n",
        "\n",
        "Lets create a **scalar**\n",
        "\n",
        "### Scalar\n",
        "A scalar is a single number and in tensor-speak it's a zero dimension tensor"
      ],
      "metadata": {
        "id": "sCfGdnViwCTE"
      }
    },
    {
      "cell_type": "code",
      "execution_count": 13,
      "metadata": {
        "colab": {
          "base_uri": "https://localhost:8080/"
        },
        "id": "KmSrcaA5tFmn",
        "outputId": "e2cb5d27-5318-4261-c782-6fa95803b9af"
      },
      "outputs": [
        {
          "output_type": "execute_result",
          "data": {
            "text/plain": [
              "tensor(7)"
            ]
          },
          "metadata": {},
          "execution_count": 13
        }
      ],
      "source": [
        "# Scalar\n",
        "scalar = torch.tensor(7)\n",
        "scalar"
      ]
    },
    {
      "cell_type": "markdown",
      "source": [
        "This means although  ```scalar``` is a single number, its of type ```torch.tensor```\n",
        "\n",
        "Lets check te dimensions of a tensor using ```ndim``` attribute"
      ],
      "metadata": {
        "id": "w7TDStzfy_iR"
      }
    },
    {
      "cell_type": "code",
      "source": [
        "scalar.ndim"
      ],
      "metadata": {
        "colab": {
          "base_uri": "https://localhost:8080/"
        },
        "id": "XDqYS26dy8jI",
        "outputId": "6100d8d3-32a4-4eed-8550-9f07d759d70f"
      },
      "execution_count": 14,
      "outputs": [
        {
          "output_type": "execute_result",
          "data": {
            "text/plain": [
              "0"
            ]
          },
          "metadata": {},
          "execution_count": 14
        }
      ]
    },
    {
      "cell_type": "markdown",
      "source": [
        "What if we want to retriece the number from the tensor ?\n",
        "\n",
        "As in, turn it from  ```torch.tensor``` to a python integer?\n",
        "\n",
        "To do we can use ```item()``` method\n"
      ],
      "metadata": {
        "id": "_VwULIIcza4R"
      }
    },
    {
      "cell_type": "code",
      "source": [
        "# Get the python number within a tensor (Only works with one-element tensors)\n",
        "scalar.item()"
      ],
      "metadata": {
        "colab": {
          "base_uri": "https://localhost:8080/"
        },
        "id": "jZqoqvL1zyI1",
        "outputId": "369154a6-213c-4c77-8741-77d38218076b"
      },
      "execution_count": 15,
      "outputs": [
        {
          "output_type": "execute_result",
          "data": {
            "text/plain": [
              "7"
            ]
          },
          "metadata": {},
          "execution_count": 15
        }
      ]
    },
    {
      "cell_type": "markdown",
      "source": [
        "### Vector\n",
        "\n",
        "A vector is a single dimension tensor but can contain many numbers.\n",
        "\n",
        "As in, you can have a vector ```[3, 2]``` to describe ```[bedrooms, bathrooms]``` in a house. Or you could have ```[3, 2, 2]``` to describe ```[bedrooms, bathrooms, car_parks]``` in a house.\n",
        "\n",
        "The important trend here is that a vector is flexible in what it can reporesent"
      ],
      "metadata": {
        "id": "yMNBAmESz-e9"
      }
    },
    {
      "cell_type": "code",
      "source": [
        "# Vector\n",
        "vector = torch.tensor([7, 7])\n",
        "vector"
      ],
      "metadata": {
        "colab": {
          "base_uri": "https://localhost:8080/"
        },
        "id": "P2n5o5Uwz-Ok",
        "outputId": "19ac22a5-900f-4785-af16-5613c343ae4e"
      },
      "execution_count": 16,
      "outputs": [
        {
          "output_type": "execute_result",
          "data": {
            "text/plain": [
              "tensor([7, 7])"
            ]
          },
          "metadata": {},
          "execution_count": 16
        }
      ]
    },
    {
      "cell_type": "code",
      "source": [
        "# Check number of dimensions of vector\n",
        "vector.ndim"
      ],
      "metadata": {
        "colab": {
          "base_uri": "https://localhost:8080/"
        },
        "id": "62XoIpEf01Lg",
        "outputId": "212241aa-1e1d-4d85-c919-9b61b5461744"
      },
      "execution_count": 17,
      "outputs": [
        {
          "output_type": "execute_result",
          "data": {
            "text/plain": [
              "1"
            ]
          },
          "metadata": {},
          "execution_count": 17
        }
      ]
    },
    {
      "cell_type": "code",
      "source": [
        "vector.shape"
      ],
      "metadata": {
        "id": "CDnzWRDYrJtl",
        "outputId": "7b16dee5-6e85-4df2-f927-8abf2117be60",
        "colab": {
          "base_uri": "https://localhost:8080/"
        }
      },
      "execution_count": 18,
      "outputs": [
        {
          "output_type": "execute_result",
          "data": {
            "text/plain": [
              "torch.Size([2])"
            ]
          },
          "metadata": {},
          "execution_count": 18
        }
      ]
    },
    {
      "cell_type": "markdown",
      "source": [
        "### Matrix\n",
        "\n",
        "Matrices are as flexible as vectors, except they got an extra dimension"
      ],
      "metadata": {
        "id": "qsgArhH0rVaD"
      }
    },
    {
      "cell_type": "code",
      "source": [
        "# MATRIX\n",
        "\n",
        "MATRIX = torch.tensor([[2, 3],\n",
        "                       [4, 5]])\n",
        "MATRIX"
      ],
      "metadata": {
        "id": "SxMc3P5RrjOK",
        "outputId": "23ecdd5c-71f4-4467-c1d9-df1e5e62b412",
        "colab": {
          "base_uri": "https://localhost:8080/"
        }
      },
      "execution_count": 19,
      "outputs": [
        {
          "output_type": "execute_result",
          "data": {
            "text/plain": [
              "tensor([[2, 3],\n",
              "        [4, 5]])"
            ]
          },
          "metadata": {},
          "execution_count": 19
        }
      ]
    },
    {
      "cell_type": "code",
      "source": [
        "# Check number of dimensions\n",
        "\n",
        "MATRIX.ndim"
      ],
      "metadata": {
        "id": "yImgmlZIrvut",
        "outputId": "8b877aa0-e88c-4e05-a57b-0c0370e7bdf7",
        "colab": {
          "base_uri": "https://localhost:8080/"
        }
      },
      "execution_count": 20,
      "outputs": [
        {
          "output_type": "execute_result",
          "data": {
            "text/plain": [
              "2"
            ]
          },
          "metadata": {},
          "execution_count": 20
        }
      ]
    },
    {
      "cell_type": "code",
      "source": [
        "MATRIX.shape"
      ],
      "metadata": {
        "id": "l0IQb2dgry4g",
        "outputId": "394771bb-3f34-4a5f-bee2-772dcdf343c1",
        "colab": {
          "base_uri": "https://localhost:8080/"
        }
      },
      "execution_count": 21,
      "outputs": [
        {
          "output_type": "execute_result",
          "data": {
            "text/plain": [
              "torch.Size([2, 2])"
            ]
          },
          "metadata": {},
          "execution_count": 21
        }
      ]
    },
    {
      "cell_type": "markdown",
      "source": [
        "### Tensor\n",
        "\n",
        "Tensar has more dimensions. Matrix++"
      ],
      "metadata": {
        "id": "ZzEJZzytr5nA"
      }
    },
    {
      "cell_type": "code",
      "source": [
        "TENSOR = torch.tensor([[[1, 2, 3],\n",
        "                        [4, 5, 6],\n",
        "                        [7,8, 9]]])\n",
        "TENSOR"
      ],
      "metadata": {
        "id": "mS2e8f3usH6W",
        "outputId": "cb381bc1-de38-4b7c-82b3-842929713331",
        "colab": {
          "base_uri": "https://localhost:8080/"
        }
      },
      "execution_count": 22,
      "outputs": [
        {
          "output_type": "execute_result",
          "data": {
            "text/plain": [
              "tensor([[[1, 2, 3],\n",
              "         [4, 5, 6],\n",
              "         [7, 8, 9]]])"
            ]
          },
          "metadata": {},
          "execution_count": 22
        }
      ]
    },
    {
      "cell_type": "code",
      "source": [
        "# Check number of dimension and shape\n",
        "TENSOR.ndim, TENSOR.shape"
      ],
      "metadata": {
        "id": "p96XvjdRsTOn",
        "outputId": "35e8791e-7964-4117-ec8e-88ccae34cd80",
        "colab": {
          "base_uri": "https://localhost:8080/"
        }
      },
      "execution_count": 23,
      "outputs": [
        {
          "output_type": "execute_result",
          "data": {
            "text/plain": [
              "(3, torch.Size([1, 3, 3]))"
            ]
          },
          "metadata": {},
          "execution_count": 23
        }
      ]
    },
    {
      "cell_type": "markdown",
      "source": [
        "### Summary\n",
        "\n",
        "\n",
        "| Name | What is it? | Number of dimensions | Lower or upper <br>(usually/example) |\n",
        "| ----- | ----- | ----- | ----- |\n",
        "| **scalar** | a single number | 0 | Lower (`a`) |\n",
        "| **vector** | a number with direction (e.g. wind <br> speed with direction) but can also <br> have many other numbers | 1 | Lower (`y`) |\n",
        "| **matrix** | a 2-dimensional array of numbers | 2 | Upper (`Q`) |\n",
        "| **tensor** | an n-dimensional array of numbers | can be any number, <br> a 0-dimension tensor is a scalar, <br> a 1-dimension tensor is a vector | Upper (`X`) |"
      ],
      "metadata": {
        "id": "5p39VCkLsqOi"
      }
    },
    {
      "cell_type": "markdown",
      "source": [],
      "metadata": {
        "id": "89vt32ro1vDH"
      }
    },
    {
      "cell_type": "markdown",
      "source": [
        "## Random tensors\n",
        "\n",
        "Machine learning models such as neural networks manipulate and seek patterns within tensors.\n",
        "\n",
        "But when building machine learning models with PyTorch, it's rare you'll create tensors by hand (like what we've been doing).\n",
        "\n",
        "Instead, a machine learning model often starts out with large random tensors of numbers and adjusts these random numbers as it works through data to better represent it.\n",
        "\n",
        "In essence:\n",
        "\n",
        "`Start with random numbers -> look at data -> update random numbers -> look at data -> update random numbers...`"
      ],
      "metadata": {
        "id": "Pq6SXsDCvK0j"
      }
    },
    {
      "cell_type": "code",
      "source": [
        "# Create a random tensor of size (3, 4)\n",
        "\n",
        "random_tensor = torch.rand(size=(3, 4))\n",
        "random_tensor, random_tensor.dtype"
      ],
      "metadata": {
        "id": "459dJWiAvpWo",
        "outputId": "74ff5906-a34f-46d0-b384-35efb109de38",
        "colab": {
          "base_uri": "https://localhost:8080/"
        }
      },
      "execution_count": 24,
      "outputs": [
        {
          "output_type": "execute_result",
          "data": {
            "text/plain": [
              "(tensor([[0.8381, 0.9995, 0.4943, 0.0728],\n",
              "         [0.5838, 0.2150, 0.9001, 0.7122],\n",
              "         [0.2557, 0.2883, 0.6937, 0.4541]]),\n",
              " torch.float32)"
            ]
          },
          "metadata": {},
          "execution_count": 24
        }
      ]
    },
    {
      "cell_type": "code",
      "source": [
        "# Create a random tensor of size (224, 224, 3)\n",
        "\n",
        "random_image_size_tensor = torch.rand(size=(224, 224, 3))\n",
        "random_image_size_tensor.shape, random_image_size_tensor.ndim"
      ],
      "metadata": {
        "id": "8-xMi8U7v_N4",
        "outputId": "76cd5890-07a5-4a7b-d24b-3b1a6424d617",
        "colab": {
          "base_uri": "https://localhost:8080/"
        }
      },
      "execution_count": 25,
      "outputs": [
        {
          "output_type": "execute_result",
          "data": {
            "text/plain": [
              "(torch.Size([224, 224, 3]), 3)"
            ]
          },
          "metadata": {},
          "execution_count": 25
        }
      ]
    },
    {
      "cell_type": "markdown",
      "source": [
        "## Zeros and Ones\n",
        "\n",
        "Sometimes you'll just want to fill tensors with zeros or ones."
      ],
      "metadata": {
        "id": "_Tp23ZKawMk4"
      }
    },
    {
      "cell_type": "code",
      "source": [
        "# Create a tensor with all zeros\n",
        "\n",
        "zeros = torch.zeros(size=(3,4))\n",
        "zeros, zeros.dtype, zeros.shape"
      ],
      "metadata": {
        "id": "zXRID-3BwUjh",
        "outputId": "af7228f7-4222-4de4-e69d-668b050ae27e",
        "colab": {
          "base_uri": "https://localhost:8080/"
        }
      },
      "execution_count": 26,
      "outputs": [
        {
          "output_type": "execute_result",
          "data": {
            "text/plain": [
              "(tensor([[0., 0., 0., 0.],\n",
              "         [0., 0., 0., 0.],\n",
              "         [0., 0., 0., 0.]]),\n",
              " torch.float32,\n",
              " torch.Size([3, 4]))"
            ]
          },
          "metadata": {},
          "execution_count": 26
        }
      ]
    },
    {
      "cell_type": "code",
      "source": [
        "# Creata a tensor with all ones\n",
        "\n",
        "ones = torch.ones(size=(3, 4))\n",
        "ones, ones.dtype"
      ],
      "metadata": {
        "id": "TrmsZSEwxtiW",
        "outputId": "e9b18fd1-2c72-4e6b-beff-b78d6b8ce485",
        "colab": {
          "base_uri": "https://localhost:8080/"
        }
      },
      "execution_count": 97,
      "outputs": [
        {
          "output_type": "execute_result",
          "data": {
            "text/plain": [
              "(tensor([[1., 1., 1., 1.],\n",
              "         [1., 1., 1., 1.],\n",
              "         [1., 1., 1., 1.]]),\n",
              " torch.float32)"
            ]
          },
          "metadata": {},
          "execution_count": 97
        }
      ]
    },
    {
      "cell_type": "markdown",
      "source": [
        "## Create a range tensor\n",
        "\n",
        "Use `torch.arange(start, end, step)` to create a range tensor\n",
        "\n",
        "Where\n",
        "\n",
        "- `start` = start of range (e.g 0)\n",
        "- `end` = end of range (e.g 10)\n",
        "- `step` = how many steps in between each step (e.g 2 for 2 steps)"
      ],
      "metadata": {
        "id": "BqAfkyhHx40x"
      }
    },
    {
      "cell_type": "code",
      "source": [
        "# Create a tensor of values 0 to 10\n",
        "\n",
        "zero_to_ten = torch.arange(start=0, end=10, step=1)\n",
        "zero_to_ten"
      ],
      "metadata": {
        "id": "NsTNdKO9ywsE",
        "outputId": "f28d0b7c-5912-410b-92f3-5e08f7b752fd",
        "colab": {
          "base_uri": "https://localhost:8080/"
        }
      },
      "execution_count": 99,
      "outputs": [
        {
          "output_type": "execute_result",
          "data": {
            "text/plain": [
              "tensor([0, 1, 2, 3, 4, 5, 6, 7, 8, 9])"
            ]
          },
          "metadata": {},
          "execution_count": 99
        }
      ]
    },
    {
      "cell_type": "markdown",
      "source": [
        "## Reshaping, View, Stacking, Squeezing and Unsqueezing, Permute tensors\n",
        "\n",
        "* Reshaping - Reshape an input tensor to a defined shape. (Reshape should be compatable with original tensor size)\n",
        "* View - Return a view of an input tensor of certain shape but keep the same memory as the original tensor (Tensor Reference). (View should be compatable with original tensor size)\n",
        "* Stacking - Concatenate a sequence of tensors along a new dimension. Combine multipe tensors on top of each other (stack, vstack - verical stack or hstack - horizental stack).\n",
        "* Squeeze - Remove `1` dimension from a tensor.\n",
        "* Unsqueezing - Addd `1` dimension to a target tensor.\n",
        "* Permute - Return a view of input with dimensions permuted (swapped) in a certain way."
      ],
      "metadata": {
        "id": "Qv15Xm5yx4P2"
      }
    },
    {
      "cell_type": "code",
      "source": [
        "# Let's create a tensor\n",
        "\n",
        "import torch\n",
        "x = torch.arange(1., 10,)\n",
        "x, x.shape"
      ],
      "metadata": {
        "colab": {
          "base_uri": "https://localhost:8080/"
        },
        "id": "mk63YS2Ix34c",
        "outputId": "6e8db550-279e-4d83-e100-d6b51d42b74c"
      },
      "execution_count": 27,
      "outputs": [
        {
          "output_type": "execute_result",
          "data": {
            "text/plain": [
              "(tensor([1., 2., 3., 4., 5., 6., 7., 8., 9.]), torch.Size([9]))"
            ]
          },
          "metadata": {},
          "execution_count": 27
        }
      ]
    },
    {
      "cell_type": "markdown",
      "source": [
        "### Reshape"
      ],
      "metadata": {
        "id": "dn91Gw1e7wt8"
      }
    },
    {
      "cell_type": "code",
      "source": [
        "# Add an extra dimension\n",
        "x_reshaped = x.reshape(1, 7) # we are trying to squze 9 element tensor to 7 elements\n",
        "x_reshaped, x_reshaped.shape"
      ],
      "metadata": {
        "colab": {
          "base_uri": "https://localhost:8080/",
          "height": 190
        },
        "id": "kxDdmZgAz5rJ",
        "outputId": "a86cc28a-2859-4f6e-89e1-a1a637f6b54a"
      },
      "execution_count": 28,
      "outputs": [
        {
          "output_type": "error",
          "ename": "RuntimeError",
          "evalue": "shape '[1, 7]' is invalid for input of size 9",
          "traceback": [
            "\u001b[0;31m---------------------------------------------------------------------------\u001b[0m",
            "\u001b[0;31mRuntimeError\u001b[0m                              Traceback (most recent call last)",
            "\u001b[0;32m/tmp/ipython-input-960762042.py\u001b[0m in \u001b[0;36m<cell line: 0>\u001b[0;34m()\u001b[0m\n\u001b[1;32m      1\u001b[0m \u001b[0;31m# Add an extra dimension\u001b[0m\u001b[0;34m\u001b[0m\u001b[0;34m\u001b[0m\u001b[0m\n\u001b[0;32m----> 2\u001b[0;31m \u001b[0mx_reshaped\u001b[0m \u001b[0;34m=\u001b[0m \u001b[0mx\u001b[0m\u001b[0;34m.\u001b[0m\u001b[0mreshape\u001b[0m\u001b[0;34m(\u001b[0m\u001b[0;36m1\u001b[0m\u001b[0;34m,\u001b[0m \u001b[0;36m7\u001b[0m\u001b[0;34m)\u001b[0m \u001b[0;31m# we are trying to squze 9 element tensor to 7 elements\u001b[0m\u001b[0;34m\u001b[0m\u001b[0;34m\u001b[0m\u001b[0m\n\u001b[0m\u001b[1;32m      3\u001b[0m \u001b[0mx_reshaped\u001b[0m\u001b[0;34m,\u001b[0m \u001b[0mx_reshaped\u001b[0m\u001b[0;34m.\u001b[0m\u001b[0mshape\u001b[0m\u001b[0;34m\u001b[0m\u001b[0;34m\u001b[0m\u001b[0m\n",
            "\u001b[0;31mRuntimeError\u001b[0m: shape '[1, 7]' is invalid for input of size 9"
          ]
        }
      ]
    },
    {
      "cell_type": "code",
      "source": [
        "x_reshaped = x.reshape(1, 9) # we are matching elements with x tensor elements\n",
        "x_reshaped, x_reshaped.shape # Obsesrve the change in tensor shape from [9] -> [1, 9]"
      ],
      "metadata": {
        "colab": {
          "base_uri": "https://localhost:8080/"
        },
        "id": "gJwbxbug0Itu",
        "outputId": "d69452de-9a02-4785-ea8a-8092eb1ae9d1"
      },
      "execution_count": 29,
      "outputs": [
        {
          "output_type": "execute_result",
          "data": {
            "text/plain": [
              "(tensor([[1., 2., 3., 4., 5., 6., 7., 8., 9.]]), torch.Size([1, 9]))"
            ]
          },
          "metadata": {},
          "execution_count": 29
        }
      ]
    },
    {
      "cell_type": "code",
      "source": [
        "x_reshaped = x.reshape(2, 9) # we are trying to reshape 2 * 9 elements when x has only 9 elements\n",
        "x_reshaped, x_reshaped.shape # Obsesrve the change in tensor shape from [9] -> [1, 9]"
      ],
      "metadata": {
        "colab": {
          "base_uri": "https://localhost:8080/",
          "height": 190
        },
        "id": "jrWazl370mGb",
        "outputId": "2bcbd05c-d305-47ab-a43e-09653350d51a"
      },
      "execution_count": 30,
      "outputs": [
        {
          "output_type": "error",
          "ename": "RuntimeError",
          "evalue": "shape '[2, 9]' is invalid for input of size 9",
          "traceback": [
            "\u001b[0;31m---------------------------------------------------------------------------\u001b[0m",
            "\u001b[0;31mRuntimeError\u001b[0m                              Traceback (most recent call last)",
            "\u001b[0;32m/tmp/ipython-input-4226213689.py\u001b[0m in \u001b[0;36m<cell line: 0>\u001b[0;34m()\u001b[0m\n\u001b[0;32m----> 1\u001b[0;31m \u001b[0mx_reshaped\u001b[0m \u001b[0;34m=\u001b[0m \u001b[0mx\u001b[0m\u001b[0;34m.\u001b[0m\u001b[0mreshape\u001b[0m\u001b[0;34m(\u001b[0m\u001b[0;36m2\u001b[0m\u001b[0;34m,\u001b[0m \u001b[0;36m9\u001b[0m\u001b[0;34m)\u001b[0m \u001b[0;31m# we are trying to reshape 2 * 9 elements when x has only 9 elements\u001b[0m\u001b[0;34m\u001b[0m\u001b[0;34m\u001b[0m\u001b[0m\n\u001b[0m\u001b[1;32m      2\u001b[0m \u001b[0mx_reshaped\u001b[0m\u001b[0;34m,\u001b[0m \u001b[0mx_reshaped\u001b[0m\u001b[0;34m.\u001b[0m\u001b[0mshape\u001b[0m \u001b[0;31m# Obsesrve the change in tensor shape from [9] -> [1, 9]\u001b[0m\u001b[0;34m\u001b[0m\u001b[0;34m\u001b[0m\u001b[0m\n",
            "\u001b[0;31mRuntimeError\u001b[0m: shape '[2, 9]' is invalid for input of size 9"
          ]
        }
      ]
    },
    {
      "cell_type": "code",
      "source": [
        "x_reshaped = x.reshape(9, 1)\n",
        "x_reshaped, x_reshaped.shape"
      ],
      "metadata": {
        "colab": {
          "base_uri": "https://localhost:8080/"
        },
        "id": "-Scw6kGX1ILX",
        "outputId": "550a6c89-a598-4584-afb5-c7b0301c16fd"
      },
      "execution_count": 32,
      "outputs": [
        {
          "output_type": "execute_result",
          "data": {
            "text/plain": [
              "(tensor([[1.],\n",
              "         [2.],\n",
              "         [3.],\n",
              "         [4.],\n",
              "         [5.],\n",
              "         [6.],\n",
              "         [7.],\n",
              "         [8.],\n",
              "         [9.]]),\n",
              " torch.Size([9, 1]))"
            ]
          },
          "metadata": {},
          "execution_count": 32
        }
      ]
    },
    {
      "cell_type": "code",
      "source": [
        "x = torch.arange(1., 11.) # now x has 10 elements\n",
        "x_reshaped = x.reshape(5, 2) # this will work since 5 * 2 = 10 which is equal to the elements in original tensor\n",
        "x_reshaped, x_reshaped.shape"
      ],
      "metadata": {
        "colab": {
          "base_uri": "https://localhost:8080/"
        },
        "id": "V9mGgdMy1xZp",
        "outputId": "5491041f-82bf-4181-db11-9d48df9853f2"
      },
      "execution_count": 33,
      "outputs": [
        {
          "output_type": "execute_result",
          "data": {
            "text/plain": [
              "(tensor([[ 1.,  2.],\n",
              "         [ 3.,  4.],\n",
              "         [ 5.,  6.],\n",
              "         [ 7.,  8.],\n",
              "         [ 9., 10.]]),\n",
              " torch.Size([5, 2]))"
            ]
          },
          "metadata": {},
          "execution_count": 33
        }
      ]
    },
    {
      "cell_type": "markdown",
      "source": [
        "### View"
      ],
      "metadata": {
        "id": "fMOjPum871f9"
      }
    },
    {
      "cell_type": "code",
      "source": [
        "# Change the view\n",
        "x = torch.arange(1., 10.)\n",
        "z = x.view(3, 3) # Even view should match elements in original tensor\n",
        "x, x.shape, z, z.shape"
      ],
      "metadata": {
        "colab": {
          "base_uri": "https://localhost:8080/"
        },
        "id": "SDqi59N81YxM",
        "outputId": "7b34d4d6-1c34-4539-a730-80e50ae2cb82"
      },
      "execution_count": 34,
      "outputs": [
        {
          "output_type": "execute_result",
          "data": {
            "text/plain": [
              "(tensor([1., 2., 3., 4., 5., 6., 7., 8., 9.]),\n",
              " torch.Size([9]),\n",
              " tensor([[1., 2., 3.],\n",
              "         [4., 5., 6.],\n",
              "         [7., 8., 9.]]),\n",
              " torch.Size([3, 3]))"
            ]
          },
          "metadata": {},
          "execution_count": 34
        }
      ]
    },
    {
      "cell_type": "code",
      "source": [
        "z[0][0] = 5\n",
        "x, z # Since z is a reference tensor, changes made to view will reflect in original tensor as well"
      ],
      "metadata": {
        "colab": {
          "base_uri": "https://localhost:8080/"
        },
        "id": "ybbBw1uk2mUT",
        "outputId": "59d46a6c-3dea-4211-b0bf-742b07d56762"
      },
      "execution_count": 55,
      "outputs": [
        {
          "output_type": "execute_result",
          "data": {
            "text/plain": [
              "(tensor([[[5, 2, 3],\n",
              "          [4, 5, 6],\n",
              "          [7, 8, 9]]]),\n",
              " tensor([[[5],\n",
              "          [2],\n",
              "          [3]],\n",
              " \n",
              "         [[4],\n",
              "          [5],\n",
              "          [6]],\n",
              " \n",
              "         [[7],\n",
              "          [8],\n",
              "          [9]]]))"
            ]
          },
          "metadata": {},
          "execution_count": 55
        }
      ]
    },
    {
      "cell_type": "markdown",
      "source": [
        "### Stack"
      ],
      "metadata": {
        "id": "6t26Ucv575eZ"
      }
    },
    {
      "cell_type": "code",
      "source": [
        "# Stack tensors on top of each other\n",
        "y = torch.stack([x, x, x, x], dim=0)\n",
        "z = torch.vstack([x, x, x, x])\n",
        "y, z"
      ],
      "metadata": {
        "colab": {
          "base_uri": "https://localhost:8080/"
        },
        "id": "sg3XBW8r3vAF",
        "outputId": "b1545ff9-13ea-4c62-bd48-a1aae15c20fb"
      },
      "execution_count": 56,
      "outputs": [
        {
          "output_type": "execute_result",
          "data": {
            "text/plain": [
              "(tensor([[[[5, 2, 3],\n",
              "           [4, 5, 6],\n",
              "           [7, 8, 9]]],\n",
              " \n",
              " \n",
              "         [[[5, 2, 3],\n",
              "           [4, 5, 6],\n",
              "           [7, 8, 9]]],\n",
              " \n",
              " \n",
              "         [[[5, 2, 3],\n",
              "           [4, 5, 6],\n",
              "           [7, 8, 9]]],\n",
              " \n",
              " \n",
              "         [[[5, 2, 3],\n",
              "           [4, 5, 6],\n",
              "           [7, 8, 9]]]]),\n",
              " tensor([[[5, 2, 3],\n",
              "          [4, 5, 6],\n",
              "          [7, 8, 9]],\n",
              " \n",
              "         [[5, 2, 3],\n",
              "          [4, 5, 6],\n",
              "          [7, 8, 9]],\n",
              " \n",
              "         [[5, 2, 3],\n",
              "          [4, 5, 6],\n",
              "          [7, 8, 9]],\n",
              " \n",
              "         [[5, 2, 3],\n",
              "          [4, 5, 6],\n",
              "          [7, 8, 9]]]))"
            ]
          },
          "metadata": {},
          "execution_count": 56
        }
      ]
    },
    {
      "cell_type": "code",
      "source": [
        "y = torch.stack([x, x, x, x], dim=1)\n",
        "y"
      ],
      "metadata": {
        "colab": {
          "base_uri": "https://localhost:8080/"
        },
        "id": "vyswwMG84Ejl",
        "outputId": "a97f3078-3c6e-411e-b10d-490643991a38"
      },
      "execution_count": 57,
      "outputs": [
        {
          "output_type": "execute_result",
          "data": {
            "text/plain": [
              "tensor([[[[5, 2, 3],\n",
              "          [4, 5, 6],\n",
              "          [7, 8, 9]],\n",
              "\n",
              "         [[5, 2, 3],\n",
              "          [4, 5, 6],\n",
              "          [7, 8, 9]],\n",
              "\n",
              "         [[5, 2, 3],\n",
              "          [4, 5, 6],\n",
              "          [7, 8, 9]],\n",
              "\n",
              "         [[5, 2, 3],\n",
              "          [4, 5, 6],\n",
              "          [7, 8, 9]]]])"
            ]
          },
          "metadata": {},
          "execution_count": 57
        }
      ]
    },
    {
      "cell_type": "code",
      "source": [
        "y = torch.cat([x, x, x, x], dim= 0)\n",
        "z = torch.hstack([x, x, x, x])\n",
        "y, z"
      ],
      "metadata": {
        "colab": {
          "base_uri": "https://localhost:8080/"
        },
        "id": "vPt82_R_4IXf",
        "outputId": "5850892a-3670-4285-87c6-a5894bdb1c70"
      },
      "execution_count": 58,
      "outputs": [
        {
          "output_type": "execute_result",
          "data": {
            "text/plain": [
              "(tensor([[[5, 2, 3],\n",
              "          [4, 5, 6],\n",
              "          [7, 8, 9]],\n",
              " \n",
              "         [[5, 2, 3],\n",
              "          [4, 5, 6],\n",
              "          [7, 8, 9]],\n",
              " \n",
              "         [[5, 2, 3],\n",
              "          [4, 5, 6],\n",
              "          [7, 8, 9]],\n",
              " \n",
              "         [[5, 2, 3],\n",
              "          [4, 5, 6],\n",
              "          [7, 8, 9]]]),\n",
              " tensor([[[5, 2, 3],\n",
              "          [4, 5, 6],\n",
              "          [7, 8, 9],\n",
              "          [5, 2, 3],\n",
              "          [4, 5, 6],\n",
              "          [7, 8, 9],\n",
              "          [5, 2, 3],\n",
              "          [4, 5, 6],\n",
              "          [7, 8, 9],\n",
              "          [5, 2, 3],\n",
              "          [4, 5, 6],\n",
              "          [7, 8, 9]]]))"
            ]
          },
          "metadata": {},
          "execution_count": 58
        }
      ]
    },
    {
      "cell_type": "markdown",
      "source": [
        "### Squeeze"
      ],
      "metadata": {
        "id": "tdvIAg_v8AO8"
      }
    },
    {
      "cell_type": "code",
      "source": [
        "# Squeeze\n",
        "x_reshaped, x_reshaped.shape"
      ],
      "metadata": {
        "colab": {
          "base_uri": "https://localhost:8080/"
        },
        "id": "yLHKgdnY47YS",
        "outputId": "774282e5-2b44-480a-ce64-4455659d7dad"
      },
      "execution_count": 59,
      "outputs": [
        {
          "output_type": "execute_result",
          "data": {
            "text/plain": [
              "(tensor([[ 1.,  2.],\n",
              "         [ 3.,  4.],\n",
              "         [ 5.,  6.],\n",
              "         [ 7.,  8.],\n",
              "         [ 9., 10.]]),\n",
              " torch.Size([5, 2]))"
            ]
          },
          "metadata": {},
          "execution_count": 59
        }
      ]
    },
    {
      "cell_type": "code",
      "source": [
        "z = x_reshaped.squeeze() # Squeeze has no effect since we dont have any empty dimension\n",
        "z, z.shape"
      ],
      "metadata": {
        "colab": {
          "base_uri": "https://localhost:8080/"
        },
        "id": "iqKJrKDN5yRk",
        "outputId": "d0e77136-4562-4107-d794-a283a6d1e305"
      },
      "execution_count": 60,
      "outputs": [
        {
          "output_type": "execute_result",
          "data": {
            "text/plain": [
              "(tensor([[ 1.,  2.],\n",
              "         [ 3.,  4.],\n",
              "         [ 5.,  6.],\n",
              "         [ 7.,  8.],\n",
              "         [ 9., 10.]]),\n",
              " torch.Size([5, 2]))"
            ]
          },
          "metadata": {},
          "execution_count": 60
        }
      ]
    },
    {
      "cell_type": "code",
      "source": [
        "x_reshaped_1 = x.reshape(1, 9)\n",
        "x_reshaped_1, x_reshaped_1.shape"
      ],
      "metadata": {
        "colab": {
          "base_uri": "https://localhost:8080/"
        },
        "id": "TnS9KApr56dv",
        "outputId": "e5dddc07-12cd-468a-918f-bb4904d7ac68"
      },
      "execution_count": 61,
      "outputs": [
        {
          "output_type": "execute_result",
          "data": {
            "text/plain": [
              "(tensor([[5, 2, 3, 4, 5, 6, 7, 8, 9]]), torch.Size([1, 9]))"
            ]
          },
          "metadata": {},
          "execution_count": 61
        }
      ]
    },
    {
      "cell_type": "code",
      "source": [
        "z = x_reshaped_1.squeeze() # Squeeze removed empty dimension which is empty\n",
        "z, z.shape # observe the shape after squeeze. removed all singe dimensions. ex:- (2, 1) -> 2, (2, 1, 2, 1, 2) -> (2, 2, 2)"
      ],
      "metadata": {
        "colab": {
          "base_uri": "https://localhost:8080/"
        },
        "id": "JgHHnM4m6MKX",
        "outputId": "69016196-6869-44b3-80b0-ad5ac946c2f9"
      },
      "execution_count": 62,
      "outputs": [
        {
          "output_type": "execute_result",
          "data": {
            "text/plain": [
              "(tensor([5, 2, 3, 4, 5, 6, 7, 8, 9]), torch.Size([9]))"
            ]
          },
          "metadata": {},
          "execution_count": 62
        }
      ]
    },
    {
      "cell_type": "code",
      "source": [
        "print(f\"Original tensor: {x_reshaped_1}\")\n",
        "print(f\"Original tensor shape: {x_reshaped_1.shape}\")\n",
        "print()\n",
        "print(f\"Squeezed tensor: {z}\")\n",
        "print(f\"Squeezed tensor shape: {z.shape}\")"
      ],
      "metadata": {
        "colab": {
          "base_uri": "https://localhost:8080/"
        },
        "id": "4fgp3Bp38PiY",
        "outputId": "762a773a-b643-490d-cc73-6be2c390baaa"
      },
      "execution_count": 63,
      "outputs": [
        {
          "output_type": "stream",
          "name": "stdout",
          "text": [
            "Original tensor: tensor([[5, 2, 3, 4, 5, 6, 7, 8, 9]])\n",
            "Original tensor shape: torch.Size([1, 9])\n",
            "\n",
            "Squeezed tensor: tensor([5, 2, 3, 4, 5, 6, 7, 8, 9])\n",
            "Squeezed tensor shape: torch.Size([9])\n"
          ]
        }
      ]
    },
    {
      "cell_type": "code",
      "source": [
        "a = torch.zeros([2, 1, 2, 1, 2])\n",
        "a, a.shape"
      ],
      "metadata": {
        "colab": {
          "base_uri": "https://localhost:8080/"
        },
        "id": "VZzh-weV6SUe",
        "outputId": "7d95d792-4981-4235-89f1-e881f68864d3"
      },
      "execution_count": 64,
      "outputs": [
        {
          "output_type": "execute_result",
          "data": {
            "text/plain": [
              "(tensor([[[[[0., 0.]],\n",
              " \n",
              "           [[0., 0.]]]],\n",
              " \n",
              " \n",
              " \n",
              "         [[[[0., 0.]],\n",
              " \n",
              "           [[0., 0.]]]]]),\n",
              " torch.Size([2, 1, 2, 1, 2]))"
            ]
          },
          "metadata": {},
          "execution_count": 64
        }
      ]
    },
    {
      "cell_type": "code",
      "source": [
        "b = a.squeeze();\n",
        "b, b.shape"
      ],
      "metadata": {
        "colab": {
          "base_uri": "https://localhost:8080/"
        },
        "id": "aPAWXJ357BYm",
        "outputId": "9cc69149-70eb-43ca-c48d-21d1c66ecdc3"
      },
      "execution_count": 65,
      "outputs": [
        {
          "output_type": "execute_result",
          "data": {
            "text/plain": [
              "(tensor([[[0., 0.],\n",
              "          [0., 0.]],\n",
              " \n",
              "         [[0., 0.],\n",
              "          [0., 0.]]]),\n",
              " torch.Size([2, 2, 2]))"
            ]
          },
          "metadata": {},
          "execution_count": 65
        }
      ]
    },
    {
      "cell_type": "markdown",
      "source": [
        "### Unsqueeze\n",
        "\n",
        "Adds a single dimension to a target tensor at a specific dimension"
      ],
      "metadata": {
        "id": "nWEDHP9U8kOH"
      }
    },
    {
      "cell_type": "code",
      "source": [
        "print(f\"Previous squeezed tensor: {z}\")\n",
        "print(f\"Previous squeezed tensor shape: {z.shape}\")"
      ],
      "metadata": {
        "colab": {
          "base_uri": "https://localhost:8080/"
        },
        "id": "eVXg4AQZ7Yof",
        "outputId": "f80786fb-7464-4eda-d31d-a543523b414b"
      },
      "execution_count": 93,
      "outputs": [
        {
          "output_type": "stream",
          "name": "stdout",
          "text": [
            "Previous squeezed tensor: tensor([[[1],\n",
            "         [2],\n",
            "         [3]],\n",
            "\n",
            "        [[4],\n",
            "         [5],\n",
            "         [6]],\n",
            "\n",
            "        [[7],\n",
            "         [8],\n",
            "         [9]]])\n",
            "Previous squeezed tensor shape: torch.Size([3, 3, 1])\n"
          ]
        }
      ]
    },
    {
      "cell_type": "code",
      "source": [
        "# Add an extra dimension with unsqueeze\n",
        "z_unsqueezed = z.unsqueeze(dim=0)\n",
        "\n",
        "print(f\"Unsqueezed tensor at dim 0: {z_unsqueezed}\")\n",
        "print(f\"Unsqueezed tensor shape: {z_unsqueezed.shape}\")"
      ],
      "metadata": {
        "colab": {
          "base_uri": "https://localhost:8080/"
        },
        "id": "ii8VZh3L9Gx1",
        "outputId": "b2531b6a-45cc-4b37-c0dd-373bc9230971"
      },
      "execution_count": 94,
      "outputs": [
        {
          "output_type": "stream",
          "name": "stdout",
          "text": [
            "Unsqueezed tensor at dim 0: tensor([[[[1],\n",
            "          [2],\n",
            "          [3]],\n",
            "\n",
            "         [[4],\n",
            "          [5],\n",
            "          [6]],\n",
            "\n",
            "         [[7],\n",
            "          [8],\n",
            "          [9]]]])\n",
            "Unsqueezed tensor shape: torch.Size([1, 3, 3, 1])\n"
          ]
        }
      ]
    },
    {
      "cell_type": "code",
      "source": [
        "# Add an extra dimension at 1 with unsqueeze\n",
        "z_unsqueezed_1 = z.unsqueeze(dim=1)\n",
        "\n",
        "print(f\"Unsqueezed tensor at dim 1: {z_unsqueezed_1}\")\n",
        "print(f\"Unsqueezed tensor shape: {z_unsqueezed_1.shape}\")"
      ],
      "metadata": {
        "colab": {
          "base_uri": "https://localhost:8080/"
        },
        "id": "fKcqZ2Jf9XcS",
        "outputId": "951280fe-a60d-49b8-8856-bfbfdeef5120"
      },
      "execution_count": 95,
      "outputs": [
        {
          "output_type": "stream",
          "name": "stdout",
          "text": [
            "Unsqueezed tensor at dim 1: tensor([[[[1],\n",
            "          [2],\n",
            "          [3]]],\n",
            "\n",
            "\n",
            "        [[[4],\n",
            "          [5],\n",
            "          [6]]],\n",
            "\n",
            "\n",
            "        [[[7],\n",
            "          [8],\n",
            "          [9]]]])\n",
            "Unsqueezed tensor shape: torch.Size([3, 1, 3, 1])\n"
          ]
        }
      ]
    },
    {
      "cell_type": "code",
      "source": [
        "# Add an extra dimension at 2 with unsqueeze\n",
        "z_unsqueezed_2 = z.unsqueeze(dim=2)\n",
        "z_unsqueezed_2, z_unsqueezed_2.shape"
      ],
      "metadata": {
        "colab": {
          "base_uri": "https://localhost:8080/"
        },
        "id": "mslKcFjR9ebc",
        "outputId": "7840ef82-18ed-4d8a-cd34-9abdca7319cf"
      },
      "execution_count": 96,
      "outputs": [
        {
          "output_type": "execute_result",
          "data": {
            "text/plain": [
              "(tensor([[[[1]],\n",
              " \n",
              "          [[2]],\n",
              " \n",
              "          [[3]]],\n",
              " \n",
              " \n",
              "         [[[4]],\n",
              " \n",
              "          [[5]],\n",
              " \n",
              "          [[6]]],\n",
              " \n",
              " \n",
              "         [[[7]],\n",
              " \n",
              "          [[8]],\n",
              " \n",
              "          [[9]]]]),\n",
              " torch.Size([3, 3, 1, 1]))"
            ]
          },
          "metadata": {},
          "execution_count": 96
        }
      ]
    },
    {
      "cell_type": "markdown",
      "source": [
        "### Permute\n",
        "\n",
        "Rearranges the dimesions of a target tensor in a specified order - Returns a view of the original tensor with its dimensions permuted\n",
        "`original tensor shape remains the same`\n",
        "\n",
        "Reshape - Will not change the original tensor. Return new tensor with different shape `original tensor shape remains the same`\n",
        "\n",
        "View - Will change the original tensor values. Return a refernce to the original tensor with different shape or same shape. `Original tensor shape remains the same`\n",
        "\n",
        "\n",
        "Common places `permute` is used in images\n",
        "\n"
      ],
      "metadata": {
        "id": "AXzOVtTe-ioj"
      }
    },
    {
      "cell_type": "code",
      "source": [
        "x = torch.randn(3, 3)\n",
        "x"
      ],
      "metadata": {
        "colab": {
          "base_uri": "https://localhost:8080/"
        },
        "id": "rZ3uMDRC-hbe",
        "outputId": "4eac7bd0-dedd-4575-b8fb-886a6b7b4c04"
      },
      "execution_count": 70,
      "outputs": [
        {
          "output_type": "execute_result",
          "data": {
            "text/plain": [
              "tensor([[-2.6783,  0.9712, -0.2373],\n",
              "        [ 0.8641, -0.7903,  0.1154],\n",
              "        [-0.8905, -1.4119,  1.8227]])"
            ]
          },
          "metadata": {},
          "execution_count": 70
        }
      ]
    },
    {
      "cell_type": "code",
      "source": [
        "z = torch.permute(x, (1, 0))\n",
        "z"
      ],
      "metadata": {
        "colab": {
          "base_uri": "https://localhost:8080/"
        },
        "id": "Ze0az2Z5-xOQ",
        "outputId": "6fcb0d7e-c55c-4e36-cc39-e393b9f39e01"
      },
      "execution_count": 71,
      "outputs": [
        {
          "output_type": "execute_result",
          "data": {
            "text/plain": [
              "tensor([[-2.6783,  0.8641, -0.8905],\n",
              "        [ 0.9712, -0.7903, -1.4119],\n",
              "        [-0.2373,  0.1154,  1.8227]])"
            ]
          },
          "metadata": {},
          "execution_count": 71
        }
      ]
    },
    {
      "cell_type": "code",
      "source": [
        "z[0][0] = 9.9999\n",
        "x, z"
      ],
      "metadata": {
        "colab": {
          "base_uri": "https://localhost:8080/"
        },
        "id": "fq9Tmxx-AFt_",
        "outputId": "c8ad4126-bacc-47df-cd8b-3abc39920d00"
      },
      "execution_count": 72,
      "outputs": [
        {
          "output_type": "execute_result",
          "data": {
            "text/plain": [
              "(tensor([[ 9.9999,  0.9712, -0.2373],\n",
              "         [ 0.8641, -0.7903,  0.1154],\n",
              "         [-0.8905, -1.4119,  1.8227]]),\n",
              " tensor([[ 9.9999,  0.8641, -0.8905],\n",
              "         [ 0.9712, -0.7903, -1.4119],\n",
              "         [-0.2373,  0.1154,  1.8227]]))"
            ]
          },
          "metadata": {},
          "execution_count": 72
        }
      ]
    },
    {
      "cell_type": "code",
      "source": [
        "x = torch.randn(2, 3, 5)\n",
        "print(x.shape)\n",
        "z = torch.permute(x, (2, 0 , 1))\n",
        "print(z.shape)\n",
        "# (2, 3 ,5) -> (2, 0 , 1) ->\n",
        "# 2'nd index in original should move to 0,\n",
        "# 0'th index in orifianl should move to 1,\n",
        "# 1'st index in original should move to 2"
      ],
      "metadata": {
        "colab": {
          "base_uri": "https://localhost:8080/"
        },
        "id": "hnDxDtOwAmUE",
        "outputId": "db3a4a10-4285-4e83-cec0-a8d9746e1771"
      },
      "execution_count": 73,
      "outputs": [
        {
          "output_type": "stream",
          "name": "stdout",
          "text": [
            "torch.Size([2, 3, 5])\n",
            "torch.Size([5, 2, 3])\n"
          ]
        }
      ]
    },
    {
      "cell_type": "code",
      "source": [
        "x_image = torch.rand(size=(224, 220, 3)) # [height, width, colour_channel]\n",
        "\n",
        "# Permute the original image tensor to rearrange the axis (or dim order)\n",
        "# Change original [height, width, colour_channel] -> [colour_channel, height, width]\n",
        "\n",
        "x_permuted_image = torch.permute(x_image, (2, 0 , 1)) # [colour_channel, height, width]\n",
        "print(f\"Shape of the image tensor: {x_image.shape}\")\n",
        "print(f\"\\nShape of the permuted image tensor: {x_permuted_image.shape}\")"
      ],
      "metadata": {
        "colab": {
          "base_uri": "https://localhost:8080/"
        },
        "id": "DUndRPokBaf2",
        "outputId": "c7ae4096-750f-42ec-e173-0e4737ad17a3"
      },
      "execution_count": 74,
      "outputs": [
        {
          "output_type": "stream",
          "name": "stdout",
          "text": [
            "Shape of the image tensor: torch.Size([224, 220, 3])\n",
            "\n",
            "Shape of the permuted image tensor: torch.Size([3, 224, 220])\n"
          ]
        }
      ]
    },
    {
      "cell_type": "markdown",
      "source": [
        "## Indexing ( Selecting data from tensors)\n",
        "\n",
        "Indexing with PyTorch is similar to indexing with NumPy"
      ],
      "metadata": {
        "id": "VLZiRBgSH2Jr"
      }
    },
    {
      "cell_type": "code",
      "source": [
        "# Create a tensor\n",
        "import torch\n",
        "\n",
        "x = torch.arange(1, 10).reshape(1, 3, 3)\n",
        "x, x.shape"
      ],
      "metadata": {
        "colab": {
          "base_uri": "https://localhost:8080/"
        },
        "id": "Ytj6Z1SAH5uo",
        "outputId": "a6b93a1c-b4e4-4ea5-94c9-b7ef7c18550c"
      },
      "execution_count": 75,
      "outputs": [
        {
          "output_type": "execute_result",
          "data": {
            "text/plain": [
              "(tensor([[[1, 2, 3],\n",
              "          [4, 5, 6],\n",
              "          [7, 8, 9]]]),\n",
              " torch.Size([1, 3, 3]))"
            ]
          },
          "metadata": {},
          "execution_count": 75
        }
      ]
    },
    {
      "cell_type": "code",
      "source": [
        "# Let's index on our new tensor\n",
        "x[0]"
      ],
      "metadata": {
        "colab": {
          "base_uri": "https://localhost:8080/"
        },
        "id": "X-UqsaoVIcd4",
        "outputId": "edd36c81-dbd2-41fb-e17b-81edd1f3799d"
      },
      "execution_count": 76,
      "outputs": [
        {
          "output_type": "execute_result",
          "data": {
            "text/plain": [
              "tensor([[1, 2, 3],\n",
              "        [4, 5, 6],\n",
              "        [7, 8, 9]])"
            ]
          },
          "metadata": {},
          "execution_count": 76
        }
      ]
    },
    {
      "cell_type": "code",
      "source": [
        "x[0][1]"
      ],
      "metadata": {
        "colab": {
          "base_uri": "https://localhost:8080/"
        },
        "id": "M7OkEcoFItkf",
        "outputId": "427e3963-29bc-40c2-dd85-df514b82adf4"
      },
      "execution_count": 77,
      "outputs": [
        {
          "output_type": "execute_result",
          "data": {
            "text/plain": [
              "tensor([4, 5, 6])"
            ]
          },
          "metadata": {},
          "execution_count": 77
        }
      ]
    },
    {
      "cell_type": "code",
      "source": [
        "x[0][1][2]"
      ],
      "metadata": {
        "colab": {
          "base_uri": "https://localhost:8080/"
        },
        "id": "ZwVbk3ZvIvba",
        "outputId": "a9a3f169-1dd2-4c17-9458-3f04f6a6530d"
      },
      "execution_count": 78,
      "outputs": [
        {
          "output_type": "execute_result",
          "data": {
            "text/plain": [
              "tensor(6)"
            ]
          },
          "metadata": {},
          "execution_count": 78
        }
      ]
    },
    {
      "cell_type": "code",
      "source": [
        "z = x.reshape(3, 3, 1)\n",
        "z"
      ],
      "metadata": {
        "colab": {
          "base_uri": "https://localhost:8080/"
        },
        "id": "v5bvUGOgI0rY",
        "outputId": "639768fe-7745-4d35-958c-85deda13869f"
      },
      "execution_count": 79,
      "outputs": [
        {
          "output_type": "execute_result",
          "data": {
            "text/plain": [
              "tensor([[[1],\n",
              "         [2],\n",
              "         [3]],\n",
              "\n",
              "        [[4],\n",
              "         [5],\n",
              "         [6]],\n",
              "\n",
              "        [[7],\n",
              "         [8],\n",
              "         [9]]])"
            ]
          },
          "metadata": {},
          "execution_count": 79
        }
      ]
    },
    {
      "cell_type": "code",
      "source": [
        "z[0]"
      ],
      "metadata": {
        "colab": {
          "base_uri": "https://localhost:8080/"
        },
        "id": "qeKmgPzlI8xC",
        "outputId": "63f7dba0-6453-4956-cecb-608f0a9a9a1d"
      },
      "execution_count": 80,
      "outputs": [
        {
          "output_type": "execute_result",
          "data": {
            "text/plain": [
              "tensor([[1],\n",
              "        [2],\n",
              "        [3]])"
            ]
          },
          "metadata": {},
          "execution_count": 80
        }
      ]
    },
    {
      "cell_type": "code",
      "source": [
        "z[0][1]"
      ],
      "metadata": {
        "colab": {
          "base_uri": "https://localhost:8080/"
        },
        "id": "j3gKGgJdJDGg",
        "outputId": "8715f8ac-291d-4ad0-b012-b7d599934372"
      },
      "execution_count": 81,
      "outputs": [
        {
          "output_type": "execute_result",
          "data": {
            "text/plain": [
              "tensor([2])"
            ]
          },
          "metadata": {},
          "execution_count": 81
        }
      ]
    },
    {
      "cell_type": "code",
      "source": [
        "z[0][1][0]"
      ],
      "metadata": {
        "colab": {
          "base_uri": "https://localhost:8080/"
        },
        "id": "2iRmYj33JFUn",
        "outputId": "a65532bc-c2d2-4573-9929-9bfbe252d6c2"
      },
      "execution_count": 82,
      "outputs": [
        {
          "output_type": "execute_result",
          "data": {
            "text/plain": [
              "tensor(2)"
            ]
          },
          "metadata": {},
          "execution_count": 82
        }
      ]
    },
    {
      "cell_type": "code",
      "source": [
        "y = x.reshape(3, 1, 3)\n",
        "y"
      ],
      "metadata": {
        "colab": {
          "base_uri": "https://localhost:8080/"
        },
        "id": "61-SVSb2JJOL",
        "outputId": "72cd5bea-443a-4d8d-ddd3-9ac17e182e62"
      },
      "execution_count": 83,
      "outputs": [
        {
          "output_type": "execute_result",
          "data": {
            "text/plain": [
              "tensor([[[1, 2, 3]],\n",
              "\n",
              "        [[4, 5, 6]],\n",
              "\n",
              "        [[7, 8, 9]]])"
            ]
          },
          "metadata": {},
          "execution_count": 83
        }
      ]
    },
    {
      "cell_type": "code",
      "source": [
        "y[2]"
      ],
      "metadata": {
        "colab": {
          "base_uri": "https://localhost:8080/"
        },
        "id": "sd4vhpHQJRUY",
        "outputId": "58351078-8a3e-4b12-9173-7cbb909c9fd0"
      },
      "execution_count": 84,
      "outputs": [
        {
          "output_type": "execute_result",
          "data": {
            "text/plain": [
              "tensor([[7, 8, 9]])"
            ]
          },
          "metadata": {},
          "execution_count": 84
        }
      ]
    },
    {
      "cell_type": "code",
      "source": [
        "y[2][0][1]"
      ],
      "metadata": {
        "colab": {
          "base_uri": "https://localhost:8080/"
        },
        "id": "jyZjdnKiJTad",
        "outputId": "f7b2859a-d66b-434b-f23f-6e10bbe36d6d"
      },
      "execution_count": 85,
      "outputs": [
        {
          "output_type": "execute_result",
          "data": {
            "text/plain": [
              "tensor(8)"
            ]
          },
          "metadata": {},
          "execution_count": 85
        }
      ]
    },
    {
      "cell_type": "markdown",
      "source": [
        "### You can also use `:` to select `all` of a target dimension"
      ],
      "metadata": {
        "id": "XSAXHjWYKDgY"
      }
    },
    {
      "cell_type": "code",
      "source": [
        "y[1, 0, :]"
      ],
      "metadata": {
        "colab": {
          "base_uri": "https://localhost:8080/"
        },
        "id": "EuWFI9EwJY62",
        "outputId": "53bfd447-50c5-4015-b98d-712e81736835"
      },
      "execution_count": 86,
      "outputs": [
        {
          "output_type": "execute_result",
          "data": {
            "text/plain": [
              "tensor([4, 5, 6])"
            ]
          },
          "metadata": {},
          "execution_count": 86
        }
      ]
    },
    {
      "cell_type": "code",
      "source": [
        "x"
      ],
      "metadata": {
        "colab": {
          "base_uri": "https://localhost:8080/"
        },
        "id": "sbfvEi4bKRrG",
        "outputId": "88afcb3a-caf6-44a8-fb96-359c846dcf03"
      },
      "execution_count": 87,
      "outputs": [
        {
          "output_type": "execute_result",
          "data": {
            "text/plain": [
              "tensor([[[1, 2, 3],\n",
              "         [4, 5, 6],\n",
              "         [7, 8, 9]]])"
            ]
          },
          "metadata": {},
          "execution_count": 87
        }
      ]
    },
    {
      "cell_type": "code",
      "source": [
        "# Get all values of 0th and 1st dimension but only index 1 of 2nd dimension\n",
        "x[:, :, 1]"
      ],
      "metadata": {
        "colab": {
          "base_uri": "https://localhost:8080/"
        },
        "id": "VuPGdOySKfLp",
        "outputId": "8793f9f0-2254-44cb-a7bd-4c747a38126e"
      },
      "execution_count": 88,
      "outputs": [
        {
          "output_type": "execute_result",
          "data": {
            "text/plain": [
              "tensor([[2, 5, 8]])"
            ]
          },
          "metadata": {},
          "execution_count": 88
        }
      ]
    },
    {
      "cell_type": "code",
      "source": [
        "# Get all values of 0th and 1st dimension but only the 1 index value of 2nd dimension\n",
        "x[:, 1, 1], x[0][1][1] # x[:, 1, 1] === x[0][1][1]"
      ],
      "metadata": {
        "colab": {
          "base_uri": "https://localhost:8080/"
        },
        "id": "dV3r2qDGKvz9",
        "outputId": "3e53aacf-bc46-4c4f-8cf7-53eaa70b89b7"
      },
      "execution_count": 89,
      "outputs": [
        {
          "output_type": "execute_result",
          "data": {
            "text/plain": [
              "(tensor([5]), tensor(5))"
            ]
          },
          "metadata": {},
          "execution_count": 89
        }
      ]
    },
    {
      "cell_type": "code",
      "source": [
        "# Get index 0 of 0th and 1st dimension and all values of 2nd dimesion\n",
        "x[0, 0, :], x[0][0] # x[0, 0, :] === x[0][0]"
      ],
      "metadata": {
        "colab": {
          "base_uri": "https://localhost:8080/"
        },
        "id": "_zVp7DBLLC36",
        "outputId": "49e4cf33-5b25-482e-ab32-d34de4cd45f1"
      },
      "execution_count": 90,
      "outputs": [
        {
          "output_type": "execute_result",
          "data": {
            "text/plain": [
              "(tensor([1, 2, 3]), tensor([1, 2, 3]))"
            ]
          },
          "metadata": {},
          "execution_count": 90
        }
      ]
    },
    {
      "cell_type": "code",
      "source": [
        "# Index on x to return 9\n",
        "# tensor([[[1, 2, 3],\n",
        "#         [4, 5, 6],\n",
        "#         [7, 8, 9]]])\n",
        "\n",
        "x[:, 2, 2], x[0][2][2]"
      ],
      "metadata": {
        "colab": {
          "base_uri": "https://localhost:8080/"
        },
        "id": "VbyCjZYgMVYK",
        "outputId": "9056deb8-f95e-4b0f-df53-fd7f208ac0f3"
      },
      "execution_count": 91,
      "outputs": [
        {
          "output_type": "execute_result",
          "data": {
            "text/plain": [
              "(tensor([9]), tensor(9))"
            ]
          },
          "metadata": {},
          "execution_count": 91
        }
      ]
    },
    {
      "cell_type": "code",
      "source": [
        "# Index on x to return 3, 6, 9\n",
        "# tensor([[[1, 2, 3],\n",
        "#         [4, 5, 6],\n",
        "#         [7, 8, 9]]])\n",
        "\n",
        "x[:, :, 2]"
      ],
      "metadata": {
        "colab": {
          "base_uri": "https://localhost:8080/"
        },
        "id": "7ZD0nD8sNBFn",
        "outputId": "23dcf1f1-cf5b-46ea-a662-af0e302ffeb0"
      },
      "execution_count": 92,
      "outputs": [
        {
          "output_type": "execute_result",
          "data": {
            "text/plain": [
              "tensor([[3, 6, 9]])"
            ]
          },
          "metadata": {},
          "execution_count": 92
        }
      ]
    },
    {
      "cell_type": "code",
      "source": [],
      "metadata": {
        "id": "fztZTkMFNXeY"
      },
      "execution_count": 92,
      "outputs": []
    },
    {
      "cell_type": "markdown",
      "source": [
        "## PyTorch Tensors & NumPy\n",
        "\n",
        "NumPy is a popular scientific python numerical computing library.\n",
        "\n",
        "Because of this, PyTorch has functionality to interact with NumPy.\n",
        "\n",
        "* Data in NumPy array, convert to PyTorch Tensor -> `torch.from_numpy(ndarray)`\n",
        "\n",
        "* PyTorch tensor -> NumPy -> `torch.numpy()`\n"
      ],
      "metadata": {
        "id": "xpFAGP1BPiWA"
      }
    },
    {
      "cell_type": "code",
      "source": [
        "# Numpy array to PyTorch tensor\n",
        "import numpy as np\n",
        "import torch\n",
        "\n",
        "array = np.arange(1.0, 8.0)\n",
        "print(f\"Numpy array: {array}\")\n",
        "print(f\"Numpy array type: {array.dtype}\")\n",
        "\n",
        "# Warning: When converting from numpy -> pytorch,\n",
        "# pytorch reflects numpy's default datatype float64\n",
        "tensor = torch.from_numpy(array)\n",
        "print(f\"\\nTensor: {tensor}\")\n",
        "print(f\"Tensor type: {tensor.dtype}\")\n",
        "\n",
        "# Converting tensor to float32. Since torch default datatype is float32\n",
        "tensor_32 = torch.from_numpy(array).type(torch.float32)\n",
        "print(f\"\\nTensor: {tensor_32}\")\n",
        "print(f\"Tensor type: {tensor_32.dtype}\")"
      ],
      "metadata": {
        "colab": {
          "base_uri": "https://localhost:8080/"
        },
        "id": "Y4EpDdcxP2fk",
        "outputId": "b0365621-44a7-4f0c-d3c0-b97a8e9bb1a6"
      },
      "execution_count": 53,
      "outputs": [
        {
          "output_type": "stream",
          "name": "stdout",
          "text": [
            "Numpy array: [1. 2. 3. 4. 5. 6. 7.]\n",
            "Numpy array type: float64\n",
            "\n",
            "Tensor: tensor([1., 2., 3., 4., 5., 6., 7.], dtype=torch.float64)\n",
            "Tensor type: torch.float64\n",
            "\n",
            "Tensor: tensor([1., 2., 3., 4., 5., 6., 7.])\n",
            "Tensor type: torch.float32\n"
          ]
        }
      ]
    },
    {
      "cell_type": "code",
      "source": [
        "# PyTorch tensor to NumPy array\n",
        "tensor = torch.randn(10)\n",
        "print(f\"Tensor: {tensor}\")\n",
        "print(f\"Tensor type: {tensor.dtype}\")\n",
        "\n",
        "array = tensor.numpy()\n",
        "print(f\"\\nNumpy array: {array}\")\n",
        "print(f\"Numpy array type: {array.dtype}\")"
      ],
      "metadata": {
        "colab": {
          "base_uri": "https://localhost:8080/"
        },
        "id": "4U3cb0_MQkPz",
        "outputId": "22a27796-e05f-4cea-9620-67c1f690bb7e"
      },
      "execution_count": 54,
      "outputs": [
        {
          "output_type": "stream",
          "name": "stdout",
          "text": [
            "Tensor: tensor([-1.1379,  0.1162,  0.7253,  1.3448,  0.2865,  0.6264, -0.0436,  0.3656,\n",
            "        -0.0865,  0.5014])\n",
            "Tensor type: torch.float32\n",
            "\n",
            "Numpy array: [-1.1379185   0.11624096  0.7252549   1.3447931   0.28650224  0.62640613\n",
            " -0.04358715  0.365604   -0.08652893  0.5013713 ]\n",
            "Numpy array type: float32\n"
          ]
        }
      ]
    },
    {
      "cell_type": "markdown",
      "source": [
        "## Reproducibility (trying to take random out of random)\n",
        "\n",
        "In short how a neural network learns:\n",
        "\n",
        "`start with random number -> perform tensor operations -> update random numbers to try and make them better representations of the data -> again -> again -> again ...`\n",
        "\n",
        "To reduce the randomness in neural netowoks and PyTorch comes the concept of **random seed**.\n",
        "\n",
        "Essentially what the random seed does is \"flavour\" the randomness.\n",
        "\n"
      ],
      "metadata": {
        "id": "GatSk556TXVR"
      }
    },
    {
      "cell_type": "code",
      "source": [
        "import torch\n",
        "\n",
        "# Create tow random tensors\n",
        "random_tensor_a = torch.rand(3, 4) # always creates a random numbers when the cell is executed\n",
        "random_tensor_b = torch.rand(3, 4)\n",
        "\n",
        "print(f\"Tensor A: \\n{random_tensor_a}\")\n",
        "print(f\"\\nTensor B: \\n{random_tensor_b}\")\n",
        "print(f\"\\nTensor A == Tensor B: \\n{random_tensor_a == random_tensor_b}\")\n"
      ],
      "metadata": {
        "id": "C3EkYyJ6RGRJ"
      },
      "execution_count": null,
      "outputs": []
    },
    {
      "cell_type": "code",
      "source": [
        "# Let's make some random but reproducible tensors\n",
        "\n",
        "# Set the random seed\n",
        "RANDOM_SEED = 42 # Can set to any number\n",
        "torch.manual_seed(RANDOM_SEED)\n",
        "# Create tensor with random seed\n",
        "random_tensor_c = torch.rand(3, 4)\n",
        "\n",
        "torch.manual_seed(RANDOM_SEED)\n",
        "random_tensor_d = torch.rand(3, 4)\n",
        "\n",
        "print(f\"Tensor C: \\n{random_tensor_c}\")\n",
        "print(f\"\\nTensor D: \\n{random_tensor_d}\")\n",
        "print(f\"\\nTensor C == Tensor D: \\n{random_tensor_c == random_tensor_d}\")"
      ],
      "metadata": {
        "id": "cv7hn0YPTVnO"
      },
      "execution_count": null,
      "outputs": []
    },
    {
      "cell_type": "markdown",
      "source": [
        "## Running tensors and PyTorch objects on GPUs (Making faster computations)\n",
        "\n",
        "GPUs = faster computation on numbers, thanks to CUDA + NVIDIA hardware + PyTorch working behind the scenes\n",
        "\n",
        "1. Getting a GPU - Colab pro or use your own GPU or used colud computing (GCP, AWS, Azure)"
      ],
      "metadata": {
        "id": "IuOLvXvXXwtP"
      }
    },
    {
      "cell_type": "code",
      "source": [
        "!nvidia-smi"
      ],
      "metadata": {
        "id": "gohTZVqLWNMC"
      },
      "execution_count": null,
      "outputs": []
    },
    {
      "cell_type": "markdown",
      "source": [
        "### Check for GPU access with PyTorch"
      ],
      "metadata": {
        "id": "JpInlUSZajaY"
      }
    },
    {
      "cell_type": "code",
      "source": [
        "import torch\n",
        "torch.cuda.is_available()"
      ],
      "metadata": {
        "id": "9NAA70A2aiE3"
      },
      "execution_count": null,
      "outputs": []
    },
    {
      "cell_type": "markdown",
      "source": [
        "### Setup device agnostic code"
      ],
      "metadata": {
        "id": "GQ2tbw07a3JU"
      }
    },
    {
      "cell_type": "code",
      "source": [
        "device = \"cude\" if torch.cuda.is_available() else \"cpu\"\n",
        "device"
      ],
      "metadata": {
        "id": "Qs9JmeZuauKx"
      },
      "execution_count": null,
      "outputs": []
    },
    {
      "cell_type": "markdown",
      "source": [
        "### Count number of devices"
      ],
      "metadata": {
        "id": "aU983or9bKjO"
      }
    },
    {
      "cell_type": "code",
      "source": [
        "torch.cuda.device_count()"
      ],
      "metadata": {
        "id": "Thpx6WujbFYv"
      },
      "execution_count": null,
      "outputs": []
    },
    {
      "cell_type": "markdown",
      "source": [
        "## Putting tensors and models on the GPU\n",
        "\n",
        "The reason we want our tensors/ models on the GPU is because using a GPU results in faster computations."
      ],
      "metadata": {
        "id": "n2DdtE22e7bm"
      }
    },
    {
      "cell_type": "code",
      "source": [
        "# Create a tensor (default on CPU)\n",
        "\n",
        "import torch\n",
        "\n",
        "tensor = torch.tensor([1, 2, 3], device = 'cpu')\n",
        "tensor1 = torch.tensor([4, 5, 6]) # default device is CPU\n",
        "\n",
        "print(tensor, tensor.device)\n",
        "print(tensor1, tensor1.device)"
      ],
      "metadata": {
        "id": "2w4kzATifLpq"
      },
      "execution_count": null,
      "outputs": []
    },
    {
      "cell_type": "code",
      "source": [
        "# Move tensor to GPU (if available) - Changed the run setting in colab to use GPU\n",
        "device = \"cuda\" if torch.cuda.is_available() else \"cpu\"\n",
        "print(device)\n",
        "tensor_on_gpu = tensor.to(device)\n",
        "tensor_on_gpu1 = tensor1.to(device)\n",
        "\n",
        "print(tensor_on_gpu.device, tensor_on_gpu1.device)"
      ],
      "metadata": {
        "id": "SeDy5pKHfmEu"
      },
      "execution_count": null,
      "outputs": []
    },
    {
      "cell_type": "markdown",
      "source": [
        "## Moving tensors back to CPU\n",
        "\n",
        "If tensor is on GPU, can't transfter it to NumPy"
      ],
      "metadata": {
        "id": "hp4f4WJug-qw"
      }
    },
    {
      "cell_type": "code",
      "source": [
        "tensor_on_gpu.numpy()"
      ],
      "metadata": {
        "id": "D8vhWliihKz4"
      },
      "execution_count": null,
      "outputs": []
    },
    {
      "cell_type": "markdown",
      "source": [
        "To fix the GPU tensor with NumPy issue, we fist set it to CPU"
      ],
      "metadata": {
        "id": "UcFZQfyFhU7z"
      }
    },
    {
      "cell_type": "code",
      "source": [
        "tensor_back_on_cpu = tensor_on_gpu.cpu().numpy()\n",
        "tensor_back_on_cpu"
      ],
      "metadata": {
        "id": "XmLoYao8hPJb"
      },
      "execution_count": null,
      "outputs": []
    },
    {
      "cell_type": "code",
      "source": [
        "tensor_on_gpu"
      ],
      "metadata": {
        "id": "yvUEurSDhmga"
      },
      "execution_count": null,
      "outputs": []
    }
  ]
}