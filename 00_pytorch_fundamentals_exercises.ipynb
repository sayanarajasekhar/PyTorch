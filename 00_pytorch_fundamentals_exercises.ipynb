{
  "nbformat": 4,
  "nbformat_minor": 0,
  "metadata": {
    "colab": {
      "provenance": [],
      "authorship_tag": "ABX9TyM94HXvqz6XaKpa2ZHsa8fN",
      "include_colab_link": true
    },
    "kernelspec": {
      "name": "python3",
      "display_name": "Python 3"
    },
    "language_info": {
      "name": "python"
    }
  },
  "cells": [
    {
      "cell_type": "markdown",
      "metadata": {
        "id": "view-in-github",
        "colab_type": "text"
      },
      "source": [
        "<a href=\"https://colab.research.google.com/github/sayanarajasekhar/PyTorch/blob/main/00_pytorch_fundamentals_exercises.ipynb\" target=\"_parent\"><img src=\"https://colab.research.google.com/assets/colab-badge.svg\" alt=\"Open In Colab\"/></a>"
      ]
    },
    {
      "cell_type": "code",
      "source": [
        "import torch"
      ],
      "metadata": {
        "id": "uwmhjPxn3QAi"
      },
      "execution_count": null,
      "outputs": []
    },
    {
      "cell_type": "markdown",
      "source": [
        "### 1.   Create a random tensor with shape `(7, 7)`\n",
        "\n"
      ],
      "metadata": {
        "id": "33XKh-rJ3GBx"
      }
    },
    {
      "cell_type": "code",
      "execution_count": 2,
      "metadata": {
        "id": "7hDq46m7251B",
        "colab": {
          "base_uri": "https://localhost:8080/"
        },
        "outputId": "6a9a6bfe-2356-4e4b-a604-bb9e999596c9"
      },
      "outputs": [
        {
          "output_type": "execute_result",
          "data": {
            "text/plain": [
              "(tensor([[0.4587, 0.0591, 0.0791, 0.7084, 0.1891, 0.5561, 0.8553],\n",
              "         [0.0134, 0.0735, 0.8090, 0.5468, 0.1696, 0.2120, 0.1807],\n",
              "         [0.8939, 0.2839, 0.4245, 0.0822, 0.0378, 0.9327, 0.8367],\n",
              "         [0.4482, 0.5836, 0.3613, 0.2333, 0.0968, 0.8306, 0.9828],\n",
              "         [0.6557, 0.8966, 0.1617, 0.0721, 0.2665, 0.9367, 0.8166],\n",
              "         [0.2933, 0.0922, 0.1096, 0.4137, 0.5077, 0.4437, 0.8185],\n",
              "         [0.1615, 0.9630, 0.8979, 0.8743, 0.3635, 0.1754, 0.9797]]),\n",
              " 2,\n",
              " torch.Size([7, 7]),\n",
              " torch.float32,\n",
              " device(type='cpu'))"
            ]
          },
          "metadata": {},
          "execution_count": 2
        }
      ],
      "source": [
        "random_tensor = torch.rand(7, 7)\n",
        "random_tensor, random_tensor.ndim, random_tensor.shape, random_tensor.dtype, random_tensor.device"
      ]
    },
    {
      "cell_type": "markdown",
      "source": [
        "### 2.   Perform a matrix multiplication on the tensor from previous step with another random tensor with shape (1, 7)"
      ],
      "metadata": {
        "id": "HGIHrn7S4dOP"
      }
    },
    {
      "cell_type": "code",
      "source": [
        "random_tensor_2 = torch.rand(size=(1, 7))\n",
        "random_tensor_2"
      ],
      "metadata": {
        "colab": {
          "base_uri": "https://localhost:8080/"
        },
        "id": "DZN_z_A84LFj",
        "outputId": "80a3516a-9e64-46c3-8092-3fab92416675"
      },
      "execution_count": 3,
      "outputs": [
        {
          "output_type": "execute_result",
          "data": {
            "text/plain": [
              "tensor([[0.2844, 0.5693, 0.0510, 0.5980, 0.6809, 0.3459, 0.7180]])"
            ]
          },
          "metadata": {},
          "execution_count": 3
        }
      ]
    },
    {
      "cell_type": "code",
      "source": [
        "random_tensor * random_tensor_2"
      ],
      "metadata": {
        "colab": {
          "base_uri": "https://localhost:8080/"
        },
        "id": "Kku46mM841-s",
        "outputId": "a7ca3090-9266-4837-e683-962a1f950bc0"
      },
      "execution_count": 4,
      "outputs": [
        {
          "output_type": "execute_result",
          "data": {
            "text/plain": [
              "tensor([[0.1305, 0.0337, 0.0040, 0.4236, 0.1287, 0.1924, 0.6141],\n",
              "        [0.0038, 0.0418, 0.0412, 0.3270, 0.1155, 0.0733, 0.1297],\n",
              "        [0.2543, 0.1616, 0.0216, 0.0491, 0.0257, 0.3226, 0.6007],\n",
              "        [0.1275, 0.3322, 0.0184, 0.1395, 0.0659, 0.2873, 0.7056],\n",
              "        [0.1865, 0.5104, 0.0082, 0.0431, 0.1815, 0.3240, 0.5863],\n",
              "        [0.0834, 0.0525, 0.0056, 0.2474, 0.3457, 0.1535, 0.5877],\n",
              "        [0.0459, 0.5482, 0.0458, 0.5229, 0.2475, 0.0607, 0.7034]])"
            ]
          },
          "metadata": {},
          "execution_count": 4
        }
      ]
    },
    {
      "cell_type": "code",
      "source": [
        "torch.mul(random_tensor, random_tensor_2)"
      ],
      "metadata": {
        "colab": {
          "base_uri": "https://localhost:8080/"
        },
        "id": "hILOrxsU47G2",
        "outputId": "1c9dff68-ee70-416d-ce68-891092d871d3"
      },
      "execution_count": 5,
      "outputs": [
        {
          "output_type": "execute_result",
          "data": {
            "text/plain": [
              "tensor([[0.1305, 0.0337, 0.0040, 0.4236, 0.1287, 0.1924, 0.6141],\n",
              "        [0.0038, 0.0418, 0.0412, 0.3270, 0.1155, 0.0733, 0.1297],\n",
              "        [0.2543, 0.1616, 0.0216, 0.0491, 0.0257, 0.3226, 0.6007],\n",
              "        [0.1275, 0.3322, 0.0184, 0.1395, 0.0659, 0.2873, 0.7056],\n",
              "        [0.1865, 0.5104, 0.0082, 0.0431, 0.1815, 0.3240, 0.5863],\n",
              "        [0.0834, 0.0525, 0.0056, 0.2474, 0.3457, 0.1535, 0.5877],\n",
              "        [0.0459, 0.5482, 0.0458, 0.5229, 0.2475, 0.0607, 0.7034]])"
            ]
          },
          "metadata": {},
          "execution_count": 5
        }
      ]
    },
    {
      "cell_type": "code",
      "source": [
        "# Transpose random_tensor_2 and multiply\n",
        "print(f\"random_tensor_2: \\n{random_tensor_2}\")\n",
        "print(f\"\\nrandom_tensor_2 after transpose: \\n{random_tensor_2.t()}\")\n",
        "print(f\"\\nMultiply: \\n{torch.mul(random_tensor, random_tensor_2.t())}\")"
      ],
      "metadata": {
        "colab": {
          "base_uri": "https://localhost:8080/"
        },
        "id": "emYQ5SCX5ETb",
        "outputId": "dddfeb0f-9c63-49dd-f90d-fc7a6940606e"
      },
      "execution_count": 8,
      "outputs": [
        {
          "output_type": "stream",
          "name": "stdout",
          "text": [
            "random_tensor_2: \n",
            "tensor([[0.2844, 0.5693, 0.0510, 0.5980, 0.6809, 0.3459, 0.7180]])\n",
            "\n",
            "random_tensor_2 after transpose: \n",
            "tensor([[0.2844],\n",
            "        [0.5693],\n",
            "        [0.0510],\n",
            "        [0.5980],\n",
            "        [0.6809],\n",
            "        [0.3459],\n",
            "        [0.7180]])\n",
            "\n",
            "Multiply: \n",
            "tensor([[0.1305, 0.0168, 0.0225, 0.2015, 0.0538, 0.1582, 0.2433],\n",
            "        [0.0077, 0.0418, 0.4605, 0.3113, 0.0965, 0.1207, 0.1029],\n",
            "        [0.0456, 0.0145, 0.0216, 0.0042, 0.0019, 0.0475, 0.0426],\n",
            "        [0.2681, 0.3490, 0.2161, 0.1395, 0.0579, 0.4968, 0.5877],\n",
            "        [0.4464, 0.6104, 0.1101, 0.0491, 0.1815, 0.6377, 0.5560],\n",
            "        [0.1014, 0.0319, 0.0379, 0.1431, 0.1756, 0.1535, 0.2831],\n",
            "        [0.1160, 0.6914, 0.6446, 0.6277, 0.2610, 0.1259, 0.7034]])\n"
          ]
        }
      ]
    },
    {
      "cell_type": "code",
      "source": [
        "# Lets create a tensor of shape (1, 7) and (7, 1) and try multiplication\n",
        "\n",
        "torch.rand(size=(1,7)) * torch.rand(size=(7, 1))"
      ],
      "metadata": {
        "colab": {
          "base_uri": "https://localhost:8080/"
        },
        "id": "OZOJwP_85WOO",
        "outputId": "a950feb7-1cfe-424b-8430-9f004f72cfd9"
      },
      "execution_count": 10,
      "outputs": [
        {
          "output_type": "execute_result",
          "data": {
            "text/plain": [
              "tensor([[0.0059, 0.0055, 0.0076, 0.0073, 0.0155, 0.0203, 0.0016],\n",
              "        [0.1216, 0.1137, 0.1586, 0.1524, 0.3206, 0.4213, 0.0342],\n",
              "        [0.2142, 0.2003, 0.2794, 0.2684, 0.5646, 0.7421, 0.0603],\n",
              "        [0.1678, 0.1569, 0.2188, 0.2102, 0.4423, 0.5813, 0.0472],\n",
              "        [0.2168, 0.2026, 0.2827, 0.2715, 0.5712, 0.7508, 0.0610],\n",
              "        [0.1944, 0.1817, 0.2535, 0.2435, 0.5123, 0.6732, 0.0547],\n",
              "        [0.1990, 0.1860, 0.2594, 0.2492, 0.5244, 0.6891, 0.0560]])"
            ]
          },
          "metadata": {},
          "execution_count": 10
        }
      ]
    },
    {
      "cell_type": "code",
      "source": [],
      "metadata": {
        "id": "uwzmdlPb6Efp"
      },
      "execution_count": null,
      "outputs": []
    }
  ]
}