{
  "nbformat": 4,
  "nbformat_minor": 0,
  "metadata": {
    "colab": {
      "provenance": [],
      "authorship_tag": "ABX9TyPKESC1PJjZrSs79S7tJbqc",
      "include_colab_link": true
    },
    "kernelspec": {
      "name": "python3",
      "display_name": "Python 3"
    },
    "language_info": {
      "name": "python"
    }
  },
  "cells": [
    {
      "cell_type": "markdown",
      "metadata": {
        "id": "view-in-github",
        "colab_type": "text"
      },
      "source": [
        "<a href=\"https://colab.research.google.com/github/sayanarajasekhar/PyTorch/blob/main/01_pytorch_workflow.ipynb\" target=\"_parent\"><img src=\"https://colab.research.google.com/assets/colab-badge.svg\" alt=\"Open In Colab\"/></a>"
      ]
    },
    {
      "cell_type": "markdown",
      "source": [
        "# PyTorch Workflow\n",
        "\n",
        "Explore an example of PyTorch end-to-end workflow"
      ],
      "metadata": {
        "id": "ZH2LDFpdVKRs"
      }
    },
    {
      "cell_type": "code",
      "source": [
        "what_we_are_doing = {1: \"Data (Prepare and Load)\",\n",
        "                     2: \"Build Model\",\n",
        "                     3: \"Fitting the model to data (Training)\",\n",
        "                     4: \"Make predictions and Evaluting model (Inference)\",\n",
        "                     5: \"Saving and Loading the model\",\n",
        "                     6: \"Putting all together\"}\n",
        "what_we_are_doing"
      ],
      "metadata": {
        "colab": {
          "base_uri": "https://localhost:8080/"
        },
        "id": "KZyXwZRLVSi-",
        "outputId": "7751563e-762e-41f4-d438-7532614377fc"
      },
      "execution_count": null,
      "outputs": [
        {
          "output_type": "execute_result",
          "data": {
            "text/plain": [
              "{1: 'Data (Prepare and Load)',\n",
              " 2: 'Build Model',\n",
              " 3: 'Fitting the model to data (Training)',\n",
              " 4: 'Make predictions and Evaluting model (Inference)',\n",
              " 5: 'Saving and Loading the model',\n",
              " 6: 'Putting all together'}"
            ]
          },
          "metadata": {},
          "execution_count": 12
        }
      ]
    },
    {
      "cell_type": "code",
      "source": [
        "import torch\n",
        "from torch import nn # nn contains all of PyTorch's building block from neural networks\n",
        "import matplotlib.pyplot as plt\n",
        "\n",
        "# Check PyTorch Version\n",
        "torch.__version__"
      ],
      "metadata": {
        "colab": {
          "base_uri": "https://localhost:8080/",
          "height": 35
        },
        "id": "kzJKJXj3V8W7",
        "outputId": "1d63350e-c0e3-4012-e271-174608b575f0"
      },
      "execution_count": null,
      "outputs": [
        {
          "output_type": "execute_result",
          "data": {
            "text/plain": [
              "'2.8.0+cu126'"
            ],
            "application/vnd.google.colaboratory.intrinsic+json": {
              "type": "string"
            }
          },
          "metadata": {},
          "execution_count": 13
        }
      ]
    },
    {
      "cell_type": "markdown",
      "source": [
        "## 1. Data (Prepare and Load)\n",
        "\n",
        "Data can be almost anything... in Machine learning\n",
        "\n",
        "* Excel speadsheet\n",
        "* Image of any kind\n",
        "* Videos\n",
        "* Audio\n",
        "* DNA\n",
        "* Text\n",
        "\n",
        "Machine learning is a game of two parts:\n",
        "1. Get data into a numerical representaion.\n",
        "2. Build a model to learn patterns from the numerical representaion.\n",
        "\n",
        "To showcase this, let's create some *known* data using the **Linear Regression Formaula**\n",
        "\n",
        "A linear regression line has an equation of the form `Y = bX + a`, where `X` is the explanatory variable and `Y` is the dependent variable. The slope/gradient of the line is `b` and `a` is the intercept (the value of y when x = 0)\n",
        "\n",
        "We'll use a linear regression formula to make a string line with *know* **parameters**\n"
      ],
      "metadata": {
        "id": "PddgUu_zW_tC"
      }
    },
    {
      "cell_type": "code",
      "source": [
        "# Create *know* parameters\n",
        "\n",
        "weight = 0.7 # weight == b\n",
        "bias = 0.3 # bias == a\n",
        "\n",
        "# Create a range of numbers\n",
        "start = 0\n",
        "end = 1\n",
        "step = 0.02\n",
        "\n",
        "X = torch.arange(start, end, step).unsqueeze(dim=1)\n",
        "y = weight * X + bias\n",
        "\n",
        "X[:10], y[:10]"
      ],
      "metadata": {
        "colab": {
          "base_uri": "https://localhost:8080/"
        },
        "id": "y2AfLyVxWl2k",
        "outputId": "0fa07255-9322-4b55-dbd3-cbb14a25c65a"
      },
      "execution_count": null,
      "outputs": [
        {
          "output_type": "execute_result",
          "data": {
            "text/plain": [
              "(tensor([[0.0000],\n",
              "         [0.0200],\n",
              "         [0.0400],\n",
              "         [0.0600],\n",
              "         [0.0800],\n",
              "         [0.1000],\n",
              "         [0.1200],\n",
              "         [0.1400],\n",
              "         [0.1600],\n",
              "         [0.1800]]),\n",
              " tensor([[0.3000],\n",
              "         [0.3140],\n",
              "         [0.3280],\n",
              "         [0.3420],\n",
              "         [0.3560],\n",
              "         [0.3700],\n",
              "         [0.3840],\n",
              "         [0.3980],\n",
              "         [0.4120],\n",
              "         [0.4260]]))"
            ]
          },
          "metadata": {},
          "execution_count": 14
        }
      ]
    },
    {
      "cell_type": "code",
      "source": [
        "len(X), len(y)"
      ],
      "metadata": {
        "colab": {
          "base_uri": "https://localhost:8080/"
        },
        "id": "IXmXkRwAdxP7",
        "outputId": "1f5923a2-3779-4beb-c7b9-3d561d1b0b0e"
      },
      "execution_count": null,
      "outputs": [
        {
          "output_type": "execute_result",
          "data": {
            "text/plain": [
              "(50, 50)"
            ]
          },
          "metadata": {},
          "execution_count": 15
        }
      ]
    },
    {
      "cell_type": "markdown",
      "source": [
        "### Splitting data into training and test sets (one of the most important concept in macine learning in general)\n",
        "\n",
        "One of most important steps in a machine learning project is creating a training and test set (and when required, a validation set).\n",
        "\n",
        "Each split of the dataset serves a specific purpose:\n",
        "\n",
        "| Split |\tPurpose\t| Amount of <br>total data | How often is <br>it used? |\n",
        "|------|------|------|------|\n",
        "| **Training set** | The model learns from this data <br>(like the course materials you study during the semester). | ~60-80% | Always |\n",
        "| **Validation set** | The model gets tuned on this data <br>(like the practice exam you take before the final exam).\t| ~10-20%\t| Often <br>but not always |\n",
        "| **Testing set**\t| The model gets evaluated on this data to test what it has learned <br>(like the final exam you take at the end of the semester). | ~10-20% | Always |\n",
        "\n",
        "Lets create training and testing datasets"
      ],
      "metadata": {
        "id": "9Je4j79Dc9s8"
      }
    },
    {
      "cell_type": "code",
      "source": [
        "# Create a train/test split\n",
        "\n",
        "train_split = int(0.8 * len(X)) # 80% of original data == 40 is used as training data\n",
        "print(train_split)"
      ],
      "metadata": {
        "colab": {
          "base_uri": "https://localhost:8080/"
        },
        "id": "YK_KPt3GcM9i",
        "outputId": "f36cee9b-8561-4a8d-f366-a6fa809f8ee1"
      },
      "execution_count": null,
      "outputs": [
        {
          "output_type": "stream",
          "name": "stdout",
          "text": [
            "40\n"
          ]
        }
      ]
    },
    {
      "cell_type": "code",
      "source": [
        "X_train, y_train = X[:train_split], y[:train_split] # 80% is split for training model\n",
        "X_test, y_test = X[train_split:], y[train_split:] # 20@ is split for testing model\n",
        "\n",
        "len(X_train), len(y_train), len(X_test), len(y_test)"
      ],
      "metadata": {
        "colab": {
          "base_uri": "https://localhost:8080/"
        },
        "id": "IWn3_p-Nf5wS",
        "outputId": "ad48b600-cf7e-4dbd-b828-5ad0366db1be"
      },
      "execution_count": null,
      "outputs": [
        {
          "output_type": "execute_result",
          "data": {
            "text/plain": [
              "(40, 40, 10, 10)"
            ]
          },
          "metadata": {},
          "execution_count": 17
        }
      ]
    },
    {
      "cell_type": "markdown",
      "source": [
        "### Visualize data"
      ],
      "metadata": {
        "id": "7AGyiTtmg1cD"
      }
    },
    {
      "cell_type": "code",
      "source": [
        "# Visualizing data using matplotlib\n",
        "def plot_predictions(train_data = X_train,\n",
        "                     train_labels = y_train,\n",
        "                     test_data = X_test,\n",
        "                     test_labels = y_test,\n",
        "                     predictions = None):\n",
        "  \"\"\"\n",
        "  Plots training data, test data and compares predictions.\n",
        "  \"\"\"\n",
        "  plt.figure(figsize=(10, 7))\n",
        "\n",
        "  # Plot training data in blue\n",
        "  plt.scatter(train_data, train_labels, c='b', s=4, label='Training Data')\n",
        "\n",
        "  # Plot test data in green\n",
        "  plt.scatter(test_data, test_labels, c='g', s=4, label='Test Data')\n",
        "\n",
        "  # If predictions\n",
        "  if predictions is not None:\n",
        "    plt.scatter(test_data, predictions, c='r', s=4, label='Predictions')\n",
        "\n",
        "  # Show legends\n",
        "  plt.legend(prop={'size': 14})"
      ],
      "metadata": {
        "id": "JpQVP7y-ghzY"
      },
      "execution_count": null,
      "outputs": []
    },
    {
      "cell_type": "code",
      "source": [
        "plot_predictions()"
      ],
      "metadata": {
        "colab": {
          "base_uri": "https://localhost:8080/",
          "height": 586
        },
        "id": "uigg41LGie0J",
        "outputId": "e5af7540-91eb-4dc7-bfec-65a74bae450c"
      },
      "execution_count": null,
      "outputs": [
        {
          "output_type": "display_data",
          "data": {
            "text/plain": [
              "<Figure size 1000x700 with 1 Axes>"
            ],
            "image/png": "[encoded data removed]"
          },
          "metadata": {}
        }
      ]
    },
    {
      "cell_type": "markdown",
      "source": [
        "## 2. Build model\n",
        "\n",
        "Let's build linear regression model\n",
        "\n",
        "What our model does:\n",
        "* Start with random values (weight & bias)\n",
        "* Look at training data and adjust the random values to better represent (or get closer to) the ideal values (weight & bias values we used to create data)\n",
        "\n",
        "How does it do so ?\n",
        "\n",
        "Through two main algorithms\n",
        "1. Gradient descent - https://youtu.be/IHZwWFHWa-w\n",
        "2. Backpropagation - https://youtu.be/Ilg3gGewQ5U"
      ],
      "metadata": {
        "id": "iPDYBg-qjStZ"
      }
    },
    {
      "cell_type": "code",
      "source": [
        "from torch import nn # nn contains all of PyTorch's building block from neural networks\n",
        "import torch\n",
        "\n",
        "# Creare linear regression model class\n",
        "\n",
        "class LinearRegressionModel(nn.Module): # Almost everything in PyTorch inhernits from nn.module\n",
        "\n",
        "  def __init__(self):\n",
        "    super().__init__()\n",
        "\n",
        "    # Initialize model parameters\n",
        "    self.weight = nn.Parameter(torch.randn(1, # <- start with random weights   (this will get adjusted as the model learns)\n",
        "                                            requires_grad=True,\n",
        "                                            dtype=torch.float))\n",
        "    self.bias = nn.Parameter(torch.randn(1,\n",
        "                                         requires_grad=True,\n",
        "                                         dtype=torch.float))\n",
        "\n",
        "  # Forward method to define the computation in the model\n",
        "  def forward(self, x: torch.Tensor) -> torch.Tensor: # x is input data\n",
        "    return self.weight * x + self.bias # Linear regression formula"
      ],
      "metadata": {
        "id": "Q-rCSLh4jbU_"
      },
      "execution_count": null,
      "outputs": []
    },
    {
      "cell_type": "markdown",
      "source": [
        "### PyTorch model building essentials\n",
        "\n",
        "| PyTorch module | What does it do?|\n",
        "|----------------|-----------------|\n",
        "| [torch.nn](https://pytorch.org/docs/stable/nn.html) | Contains all of the building blocks for computational graphs <br>(essentially a series of computations executed in a particular way). |\n",
        "| [torch.nn.Parameter](https://pytorch.org/docs/stable/generated/torch.nn.parameter.Parameter.html#parameter) | Stores tensors that can be used with nn.Module. If requires_grad=True gradients <br>(used for updating model parameters via gradient descent) are calculated automatically, this is often referred to as \"autograd\". |\n",
        "| [torch.nn.Module](https://pytorch.org/docs/stable/generated/torch.nn.Module.html#torch.nn.Module)\t| The base class for all neural network modules, all the building blocks for neural networks are subclasses. <br>If you're building a neural network in PyTorch, your models should subclass nn.Module. <br>Requires a forward() method be implemented. |\n",
        "| [torch.optim](https://pytorch.org/docs/stable/optim.html)\t| Contains various optimization algorithms <br>(these tell the model parameters stored in nn.Parameter how to best change to improve gradient descent and in turn reduce the loss). |\n",
        "| def forward()\t| All nn.Module subclasses require a forward() method, <br>this defines the computation that will take place on the data passed to the particular nn.Module <br>(e.g. the linear regression formula above). |\n",
        "\n",
        "* `torch.nn` - Contains all of the building blocks for computational graphs ( a neural network can be considered as computational graph )\n",
        "* `torch.nn.parameters` -  what parameters should our model try and learn, often a Pytorch layer from `torch.nn` will set these for us.\n",
        "* `torch.nn.Module` - The base class for all neural network modules, if you subclass it, you should overwrite `forward()` method\n",
        "* `torch.optim` - This is where the optimizers in PyTorch live, they will help with gradient descent\n",
        "* `def forward()` - All nn.Modules subclasses require you to overwrite `forward()`, this method defines what happens in the forward computation\n",
        "\n",
        "https://pytorch.org/tutorials/beginner/ptcheat.html"
      ],
      "metadata": {
        "id": "A8FQ51pHp4pR"
      }
    },
    {
      "cell_type": "markdown",
      "source": [
        "### Checking the contents of our PyTorch model\n",
        "\n",
        "* `list(model.parameters())` - returns parameters values and its required_grad details\n",
        "* `model.state_dict()` - returns parameters names and there values"
      ],
      "metadata": {
        "id": "odMh3VAqvotG"
      }
    },
    {
      "cell_type": "code",
      "source": [
        "# Create a random seed\n",
        "torch.manual_seed(42)\n",
        "\n",
        "# Create an instance of the model\n",
        "model_0 = LinearRegressionModel()\n",
        "\n",
        "# Check the parameters\n",
        "list(model_0.parameters())"
      ],
      "metadata": {
        "colab": {
          "base_uri": "https://localhost:8080/"
        },
        "id": "g3C5H2c_rsGk",
        "outputId": "c2f40227-a85c-4455-ae98-1ee13840ffcf"
      },
      "execution_count": null,
      "outputs": [
        {
          "output_type": "execute_result",
          "data": {
            "text/plain": [
              "[Parameter containing:\n",
              " tensor([0.3367], requires_grad=True),\n",
              " Parameter containing:\n",
              " tensor([0.1288], requires_grad=True)]"
            ]
          },
          "metadata": {},
          "execution_count": 21
        }
      ]
    },
    {
      "cell_type": "code",
      "source": [
        "# List named model parameters\n",
        "model_0.state_dict()"
      ],
      "metadata": {
        "colab": {
          "base_uri": "https://localhost:8080/"
        },
        "id": "6fIHFCapt2b7",
        "outputId": "8ead36be-2211-4a07-ae4e-7cc19d7e3b82"
      },
      "execution_count": null,
      "outputs": [
        {
          "output_type": "execute_result",
          "data": {
            "text/plain": [
              "OrderedDict([('weight', tensor([0.3367])), ('bias', tensor([0.1288]))])"
            ]
          },
          "metadata": {},
          "execution_count": 22
        }
      ]
    },
    {
      "cell_type": "markdown",
      "source": [
        "### Making prediction using `torch.inference_mode()`\n",
        "\n",
        "To check our model's predictive power, let's see how well model predicts `y_test` based on `X_test`\n",
        "\n",
        "When we pass data through our model, it's going to run it through `forward()` method"
      ],
      "metadata": {
        "id": "N4nYQ1lOwPFI"
      }
    },
    {
      "cell_type": "code",
      "source": [
        "# Make predictions with model\n",
        "with torch.inference_mode(): # context manager - turns of gradients\n",
        "  y_preds = model_0(X_test)\n",
        "\n",
        "# You can also do something similar with torch.no_grad, but torch.inference_mode is prefered\n",
        "\n",
        "print(y_test, y_preds, sep='\\n')\n",
        "plot_predictions(predictions=y_preds)"
      ],
      "metadata": {
        "colab": {
          "base_uri": "https://localhost:8080/",
          "height": 926
        },
        "id": "ikZiS59Cu4tJ",
        "outputId": "6506ba83-32ed-4e8b-eb94-53dac8c6d385"
      },
      "execution_count": null,
      "outputs": [
        {
          "output_type": "stream",
          "name": "stdout",
          "text": [
            "tensor([[0.8600],\n",
            "        [0.8740],\n",
            "        [0.8880],\n",
            "        [0.9020],\n",
            "        [0.9160],\n",
            "        [0.9300],\n",
            "        [0.9440],\n",
            "        [0.9580],\n",
            "        [0.9720],\n",
            "        [0.9860]])\n",
            "tensor([[0.3982],\n",
            "        [0.4049],\n",
            "        [0.4116],\n",
            "        [0.4184],\n",
            "        [0.4251],\n",
            "        [0.4318],\n",
            "        [0.4386],\n",
            "        [0.4453],\n",
            "        [0.4520],\n",
            "        [0.4588]])\n"
          ]
        },
        {
          "output_type": "display_data",
          "data": {
            "text/plain": [
              "<Figure size 1000x700 with 1 Axes>"
            ],
            "image/png": "[encoded data removed]"
          },
          "metadata": {}
        }
      ]
    },
    {
      "cell_type": "markdown",
      "source": [
        "### 3. Train model\n",
        "\n",
        "The whole idea of training is, for a model to move from some *unknow* parameters (randoms values) to some *known* parameters\n",
        "\n",
        "Or in other words from a poor representation of the data to a better representation of the data\n",
        "\n",
        "One way to measure how poor model predictions are is to use **loss function**\n",
        "\n",
        "* Note: **Loss function** may also called as **cost functon** or **criterion** in different areas\n",
        "\n",
        "Things we need to train\n",
        "\n",
        "* **Loss Function:** A function to measure how wrong model predictions are to the ideal outputs, lower is better.\n",
        "* **Optimizer:** Takes into account the loss of a model and adjusts the model's parameters (e.g. weight & bias) to improve loss function.\n",
        "\n",
        "And specifically for PyTorch, we need:\n",
        "* A training loop\n",
        "* A testing loop"
      ],
      "metadata": {
        "id": "juxMrHLQ2xdA"
      }
    },
    {
      "cell_type": "markdown",
      "source": [
        "| Function | What does it do?\t| Where does it live <br>in PyTorch?\t| Common values |\n",
        "|----------|------------------|-------------|------|\n",
        "|**Loss function**|\tMeasures how wrong your model's predictions <br>(e.g. y_preds) are compared to the truth labels <br>(e.g. y_test). Lower the better. | PyTorch has plenty of built-in loss <br>functions in [torch.nn](https://pytorch.org/docs/stable/nn.html#loss-functions).\t| Mean absolute error (MAE) for regression problems <br>( [torch.nn.L1Loss()](https://pytorch.org/docs/stable/generated/torch.nn.L1Loss.html) ). Binary cross entropy for <br>binary classification problems ( [torch.nn.BCELoss()](https://pytorch.org/docs/stable/generated/torch.nn.BCELoss.html) ).|\n",
        "| **Optimizer**\t| Tells your model how to update its internal <br>parameters to best lower the loss.\t| You can find various optimization <br>function implementations in [torch.optim](https://pytorch.org/docs/stable/optim.html). |\tStochastic gradient descent ( [torch.optim.SGD()](https://pytorch.org/docs/stable/generated/torch.optim.SGD.html#torch.optim.SGD) ). <br>Adam optimizer ( [torch.optim.Adam()](https://pytorch.org/docs/stable/generated/torch.optim.Adam.html#torch.optim.Adam) ). |"
      ],
      "metadata": {
        "id": "HZc3svvu9JuK"
      }
    },
    {
      "cell_type": "markdown",
      "source": [
        "#### Setup Loss Function"
      ],
      "metadata": {
        "id": "MbsGXmSMAYii"
      }
    },
    {
      "cell_type": "code",
      "source": [
        "# Setup loss function\n",
        "loss_fn = nn.L1Loss()"
      ],
      "metadata": {
        "id": "CCaNXGP2xtiX"
      },
      "execution_count": null,
      "outputs": []
    },
    {
      "cell_type": "markdown",
      "source": [
        "#### Setup Optimizer"
      ],
      "metadata": {
        "id": "UAbGsyHuBIw0"
      }
    },
    {
      "cell_type": "code",
      "source": [
        "# Setup optimizer\n",
        "optimizer = torch.optim.SGD(params=model_0.parameters(),\n",
        "                            lr=0.01) # lr = learning rate = possibly the most important hyperparameter, you will set\n"
      ],
      "metadata": {
        "id": "9x9QfGKIBXNE"
      },
      "execution_count": null,
      "outputs": []
    },
    {
      "cell_type": "markdown",
      "source": [
        "#### Building a training loop and testing loop in PyTorch\n",
        "\n",
        "A couple of things we need in a training loop:\n",
        "\n",
        "0. Loop through the data\n",
        "1. Forward pass ( this involves data moving through the model `forward()` function to make predications on data - also called as **Forward Propagation**\n",
        "2. Calculate the loss ( compare forward pass predications to ground truth labels )\n",
        "3. Optimizer zero grad\n",
        "4. Loss backward - move backward through the network to calculate the gradients of each of the parameters in our model with respect to the loss ( **Back Propagation** )\n",
        "5. Optimizer step - use the optimizer to adjust our model's parameters to try and improve the loss"
      ],
      "metadata": {
        "id": "RJsiPCW3DkM_"
      }
    },
    {
      "cell_type": "code",
      "source": [
        "# Model parameter before training\n",
        "model_0.state_dict()\n",
        "\n",
        "# An epoch is one loop through the data... (this is a hyperparameter because we've set it ourselves)\n",
        "epochs = 100\n",
        "\n",
        "### Training\n",
        "# 0. Loop through the data\n",
        "for epoch in range(epochs):\n",
        "  # Set the model to training mode\n",
        "  model_0.train() # train mode in PyTorch sets all parameters that require gradients to True\n",
        "\n",
        "  # model_0.eval() # sets require gradient to False\n",
        "\n",
        "  # 1. Forward pass\n",
        "  y_pred = model_0(X_train)\n",
        "\n",
        "  # 2. Calculate loss\n",
        "  loss = loss_fn(y_pred, y_train)\n",
        "\n",
        "  # 3. Optimizer zero grad\n",
        "  optimizer.zero_grad()\n",
        "\n",
        "  # 4. Perform backpropagation on the loss with respect to the parameters of the model\n",
        "  loss.backward()\n",
        "\n",
        "  # 5. Step the optimizer (perform gradient descent)\n",
        "  optimizer.step() # by default how the optimizer changes will acculumate through the loop so.. we have to zero them above in step 3 for the next iteration\n",
        "\n",
        "### Testing loop\n",
        "  # Set the mode in testing loop\n",
        "  model_0.eval() # eval mode in PyTorch sets all parameters that require gradients to False\n",
        "\n",
        "  with torch.inference_mode():\n",
        "    # 1. Forward loop\n",
        "    y_preds_new = model_0(X_test)\n",
        "\n",
        "    # 2. Calcaulate loss\n",
        "    test_loss = loss_fn(y_preds_new, y_test)\n",
        "\n",
        "    # Print out what's happening\n",
        "    if epoch % 10 == 0:\n",
        "      print(f\"Epoch: {epoch} | Loss: {loss} | Test Loss: {test_loss}\")\n",
        "      print(f\"Parameters : {model_0.state_dict()}\")\n"
      ],
      "metadata": {
        "colab": {
          "base_uri": "https://localhost:8080/"
        },
        "id": "JCBm3-TUC3mN",
        "outputId": "bfd1373f-e722-4589-f84f-bb7f12c1da7c"
      },
      "execution_count": null,
      "outputs": [
        {
          "output_type": "stream",
          "name": "stdout",
          "text": [
            "Epoch: 0 | Loss: 0.008932482451200485 | Test Loss: 0.005023092031478882\n",
            "Parameters : OrderedDict({'weight': tensor([0.6951]), 'bias': tensor([0.2993])})\n",
            "Epoch: 10 | Loss: 0.008932482451200485 | Test Loss: 0.005023092031478882\n",
            "Parameters : OrderedDict({'weight': tensor([0.6951]), 'bias': tensor([0.2993])})\n",
            "Epoch: 20 | Loss: 0.008932482451200485 | Test Loss: 0.005023092031478882\n",
            "Parameters : OrderedDict({'weight': tensor([0.6951]), 'bias': tensor([0.2993])})\n",
            "Epoch: 30 | Loss: 0.008932482451200485 | Test Loss: 0.005023092031478882\n",
            "Parameters : OrderedDict({'weight': tensor([0.6951]), 'bias': tensor([0.2993])})\n",
            "Epoch: 40 | Loss: 0.008932482451200485 | Test Loss: 0.005023092031478882\n",
            "Parameters : OrderedDict({'weight': tensor([0.6951]), 'bias': tensor([0.2993])})\n",
            "Epoch: 50 | Loss: 0.008932482451200485 | Test Loss: 0.005023092031478882\n",
            "Parameters : OrderedDict({'weight': tensor([0.6951]), 'bias': tensor([0.2993])})\n",
            "Epoch: 60 | Loss: 0.008932482451200485 | Test Loss: 0.005023092031478882\n",
            "Parameters : OrderedDict({'weight': tensor([0.6951]), 'bias': tensor([0.2993])})\n",
            "Epoch: 70 | Loss: 0.008932482451200485 | Test Loss: 0.005023092031478882\n",
            "Parameters : OrderedDict({'weight': tensor([0.6951]), 'bias': tensor([0.2993])})\n",
            "Epoch: 80 | Loss: 0.008932482451200485 | Test Loss: 0.005023092031478882\n",
            "Parameters : OrderedDict({'weight': tensor([0.6951]), 'bias': tensor([0.2993])})\n",
            "Epoch: 90 | Loss: 0.008932482451200485 | Test Loss: 0.005023092031478882\n",
            "Parameters : OrderedDict({'weight': tensor([0.6951]), 'bias': tensor([0.2993])})\n"
          ]
        }
      ]
    },
    {
      "cell_type": "code",
      "source": [
        "# Visilization before and after training\n",
        "plot_predictions(predictions=y_preds)\n",
        "plot_predictions(predictions=y_preds_new)"
      ],
      "metadata": {
        "colab": {
          "base_uri": "https://localhost:8080/",
          "height": 1000
        },
        "id": "YFOayo54JX0l",
        "outputId": "c0ae6afd-5a31-4b3d-ee1b-653be0b2fb78"
      },
      "execution_count": null,
      "outputs": [
        {
          "output_type": "display_data",
          "data": {
            "text/plain": [
              "<Figure size 1000x700 with 1 Axes>"
            ],
            "image/png": "[encoded data removed]"
          },
          "metadata": {}
        },
        {
          "output_type": "display_data",
          "data": {
            "text/plain": [
              "<Figure size 1000x700 with 1 Axes>"
            ],
            "image/png": "[encoded data removed]"
          },
          "metadata": {}
        }
      ]
    },
    {
      "cell_type": "code",
      "source": [],
      "metadata": {
        "id": "vex3dOXEU3tq"
      },
      "execution_count": null,
      "outputs": []
    }
  ]
}